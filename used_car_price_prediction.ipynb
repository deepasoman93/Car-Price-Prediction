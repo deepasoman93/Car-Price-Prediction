{
  "nbformat": 4,
  "nbformat_minor": 0,
  "metadata": {
    "kernelspec": {
      "display_name": "Python 3",
      "language": "python",
      "name": "python3"
    },
    "language_info": {
      "codemirror_mode": {
        "name": "ipython",
        "version": 3
      },
      "file_extension": ".py",
      "mimetype": "text/x-python",
      "name": "python",
      "nbconvert_exporter": "python",
      "pygments_lexer": "ipython3",
      "version": "3.8.3"
    },
    "colab": {
      "name": "used_car_price_prediction.ipynb",
      "provenance": [],
      "collapsed_sections": []
    }
  },
  "cells": [
    {
      "cell_type": "markdown",
      "metadata": {
        "id": "DGu7Gj6G4xKP"
      },
      "source": [
        "# USED CAR PREDICTION PRICE"
      ]
    },
    {
      "cell_type": "markdown",
      "metadata": {
        "id": "AhLADDqk4xKQ"
      },
      "source": [
        "<img src=\https://encrypted-tbn0.gstatic.com/images?q=tbn:ANd9GcQNX505OF28zyg_MSiFs50R0YSAmjGm0DTaOQ&usqp=CAU\">"
      ]
    },
    {
      "cell_type": "markdown",
      "metadata": {
        "id": "exGf0iaJ4xKR"
      },
      "source": [
        "# Problem definition\n"
      ]
    },
    {
      "cell_type": "markdown",
      "metadata": {
        "id": "Y2ZYuNPz4xKS"
      },
      "source": [
        "This project we are using a car dataset, where we want to predict the selling price of car based on its certain features.\n",
        "Since we need to find the real value, with real calculation, therefore this problem is regression problem. \n",
        "We will be using regression machine learning algorithms to solve this problem."
      ]
    },
    {
      "cell_type": "code",
      "metadata": {
        "id": "OCyGYyhB4xKT"
      },
      "source": [
        "#loading required libraries\n",
        "import numpy as np\n",
        "import pandas as pd\n",
        "import matplotlib.pyplot as plt\n",
        "import seaborn as sns\n",
        "%matplotlib inline"
      ],
      "execution_count": 1,
      "outputs": []
    },
    {
      "cell_type": "markdown",
      "metadata": {
        "id": "kmHMbAN94xKU"
      },
      "source": [
        "# Data Gathering"
      ]
    },
    {
      "cell_type": "code",
      "metadata": {
        "id": "ncQ8cIPA4xKW"
      },
      "source": [
        "dataset = pd.read_csv('/content/car_dataset.csv')"
      ],
      "execution_count": 3,
      "outputs": []
    },
    {
      "cell_type": "markdown",
      "metadata": {
        "id": "0UMaBMtm4xKY"
      },
      "source": [
        "# Data Preparation"
      ]
    },
    {
      "cell_type": "code",
      "metadata": {
        "id": "1F7r9iQn4xKZ",
        "colab": {
          "base_uri": "https://localhost:8080/"
        },
        "outputId": "4b118d07-809b-4f17-e3c9-7640eabb436f"
      },
      "source": [
        "#checking no. of rows and columns in dataset\n",
        "dataset.shape"
      ],
      "execution_count": 4,
      "outputs": [
        {
          "output_type": "execute_result",
          "data": {
            "text/plain": [
              "(301, 9)"
            ]
          },
          "metadata": {
            "tags": []
          },
          "execution_count": 4
        }
      ]
    },
    {
      "cell_type": "markdown",
      "metadata": {
        "id": "-yv7aXHT4xKa"
      },
      "source": [
        "This dataset contains 301 rows and 9 columns"
      ]
    },
    {
      "cell_type": "code",
      "metadata": {
        "id": "T7xlxj4f4xKb",
        "colab": {
          "base_uri": "https://localhost:8080/"
        },
        "outputId": "47078b72-9324-4716-eb78-d1a58222e829"
      },
      "source": [
        "#Checking the data type of columns.\n",
        "#this step is important because sometimes dataset may contain wrong datatype of the feature.\n",
        "dataset.info()"
      ],
      "execution_count": 5,
      "outputs": [
        {
          "output_type": "stream",
          "text": [
            "<class 'pandas.core.frame.DataFrame'>\n",
            "RangeIndex: 301 entries, 0 to 300\n",
            "Data columns (total 9 columns):\n",
            " #   Column         Non-Null Count  Dtype  \n",
            "---  ------         --------------  -----  \n",
            " 0   Car_Name       301 non-null    object \n",
            " 1   Year           301 non-null    int64  \n",
            " 2   Selling_Price  301 non-null    float64\n",
            " 3   Present_Price  301 non-null    float64\n",
            " 4   Kms_Driven     301 non-null    int64  \n",
            " 5   Fuel_Type      301 non-null    object \n",
            " 6   Seller_Type    301 non-null    object \n",
            " 7   Transmission   301 non-null    object \n",
            " 8   Owner          301 non-null    int64  \n",
            "dtypes: float64(2), int64(3), object(4)\n",
            "memory usage: 21.3+ KB\n"
          ],
          "name": "stdout"
        }
      ]
    },
    {
      "cell_type": "markdown",
      "metadata": {
        "id": "uV1CnO2i4xKc"
      },
      "source": [
        "Good! every data type is correctly mentioned. We need not to make any changes."
      ]
    },
    {
      "cell_type": "code",
      "metadata": {
        "id": "zqUX5Ti84xKc",
        "colab": {
          "base_uri": "https://localhost:8080/",
          "height": 300
        },
        "outputId": "ce2e4612-26a0-4392-8bf6-2ff383cf84eb"
      },
      "source": [
        "#check statistical summary of all the columns with numerical values.\n",
        "dataset.describe()"
      ],
      "execution_count": 6,
      "outputs": [
        {
          "output_type": "execute_result",
          "data": {
            "text/html": [
              "<div>\n",
              "<style scoped>\n",
              "    .dataframe tbody tr th:only-of-type {\n",
              "        vertical-align: middle;\n",
              "    }\n",
              "\n",
              "    .dataframe tbody tr th {\n",
              "        vertical-align: top;\n",
              "    }\n",
              "\n",
              "    .dataframe thead th {\n",
              "        text-align: right;\n",
              "    }\n",
              "</style>\n",
              "<table border=\"1\" class=\"dataframe\">\n",
              "  <thead>\n",
              "    <tr style=\"text-align: right;\">\n",
              "      <th></th>\n",
              "      <th>Year</th>\n",
              "      <th>Selling_Price</th>\n",
              "      <th>Present_Price</th>\n",
              "      <th>Kms_Driven</th>\n",
              "      <th>Owner</th>\n",
              "    </tr>\n",
              "  </thead>\n",
              "  <tbody>\n",
              "    <tr>\n",
              "      <th>count</th>\n",
              "      <td>301.000000</td>\n",
              "      <td>301.000000</td>\n",
              "      <td>301.000000</td>\n",
              "      <td>301.000000</td>\n",
              "      <td>301.000000</td>\n",
              "    </tr>\n",
              "    <tr>\n",
              "      <th>mean</th>\n",
              "      <td>2013.627907</td>\n",
              "      <td>4.661296</td>\n",
              "      <td>7.628472</td>\n",
              "      <td>36947.205980</td>\n",
              "      <td>0.043189</td>\n",
              "    </tr>\n",
              "    <tr>\n",
              "      <th>std</th>\n",
              "      <td>2.891554</td>\n",
              "      <td>5.082812</td>\n",
              "      <td>8.644115</td>\n",
              "      <td>38886.883882</td>\n",
              "      <td>0.247915</td>\n",
              "    </tr>\n",
              "    <tr>\n",
              "      <th>min</th>\n",
              "      <td>2003.000000</td>\n",
              "      <td>0.100000</td>\n",
              "      <td>0.320000</td>\n",
              "      <td>500.000000</td>\n",
              "      <td>0.000000</td>\n",
              "    </tr>\n",
              "    <tr>\n",
              "      <th>25%</th>\n",
              "      <td>2012.000000</td>\n",
              "      <td>0.900000</td>\n",
              "      <td>1.200000</td>\n",
              "      <td>15000.000000</td>\n",
              "      <td>0.000000</td>\n",
              "    </tr>\n",
              "    <tr>\n",
              "      <th>50%</th>\n",
              "      <td>2014.000000</td>\n",
              "      <td>3.600000</td>\n",
              "      <td>6.400000</td>\n",
              "      <td>32000.000000</td>\n",
              "      <td>0.000000</td>\n",
              "    </tr>\n",
              "    <tr>\n",
              "      <th>75%</th>\n",
              "      <td>2016.000000</td>\n",
              "      <td>6.000000</td>\n",
              "      <td>9.900000</td>\n",
              "      <td>48767.000000</td>\n",
              "      <td>0.000000</td>\n",
              "    </tr>\n",
              "    <tr>\n",
              "      <th>max</th>\n",
              "      <td>2018.000000</td>\n",
              "      <td>35.000000</td>\n",
              "      <td>92.600000</td>\n",
              "      <td>500000.000000</td>\n",
              "      <td>3.000000</td>\n",
              "    </tr>\n",
              "  </tbody>\n",
              "</table>\n",
              "</div>"
            ],
            "text/plain": [
              "              Year  Selling_Price  Present_Price     Kms_Driven       Owner\n",
              "count   301.000000     301.000000     301.000000     301.000000  301.000000\n",
              "mean   2013.627907       4.661296       7.628472   36947.205980    0.043189\n",
              "std       2.891554       5.082812       8.644115   38886.883882    0.247915\n",
              "min    2003.000000       0.100000       0.320000     500.000000    0.000000\n",
              "25%    2012.000000       0.900000       1.200000   15000.000000    0.000000\n",
              "50%    2014.000000       3.600000       6.400000   32000.000000    0.000000\n",
              "75%    2016.000000       6.000000       9.900000   48767.000000    0.000000\n",
              "max    2018.000000      35.000000      92.600000  500000.000000    3.000000"
            ]
          },
          "metadata": {
            "tags": []
          },
          "execution_count": 6
        }
      ]
    },
    {
      "cell_type": "code",
      "metadata": {
        "id": "Wu-MO5E_4xKd",
        "colab": {
          "base_uri": "https://localhost:8080/"
        },
        "outputId": "320b0694-eacc-43b8-8c91-c74e4a91633c"
      },
      "source": [
        "#check if there is any missing value in the dataset\n",
        "dataset.isnull().sum()"
      ],
      "execution_count": 7,
      "outputs": [
        {
          "output_type": "execute_result",
          "data": {
            "text/plain": [
              "Car_Name         0\n",
              "Year             0\n",
              "Selling_Price    0\n",
              "Present_Price    0\n",
              "Kms_Driven       0\n",
              "Fuel_Type        0\n",
              "Seller_Type      0\n",
              "Transmission     0\n",
              "Owner            0\n",
              "dtype: int64"
            ]
          },
          "metadata": {
            "tags": []
          },
          "execution_count": 7
        }
      ]
    },
    {
      "cell_type": "markdown",
      "metadata": {
        "id": "T02Um0sF4xKe"
      },
      "source": [
        "There are no missing values in the dataset"
      ]
    },
    {
      "cell_type": "markdown",
      "metadata": {
        "id": "gS9oBvsG4xKe"
      },
      "source": [
        "# Create new variable\n"
      ]
    },
    {
      "cell_type": "code",
      "metadata": {
        "id": "uFyJZTF24xKf",
        "colab": {
          "base_uri": "https://localhost:8080/",
          "height": 206
        },
        "outputId": "7f190338-9ecc-4842-d219-8122d0365f3c"
      },
      "source": [
        "#adding a column with the current year\n",
        "dataset['Current_Year']=2020\n",
        "dataset.head(5)"
      ],
      "execution_count": 8,
      "outputs": [
        {
          "output_type": "execute_result",
          "data": {
            "text/html": [
              "<div>\n",
              "<style scoped>\n",
              "    .dataframe tbody tr th:only-of-type {\n",
              "        vertical-align: middle;\n",
              "    }\n",
              "\n",
              "    .dataframe tbody tr th {\n",
              "        vertical-align: top;\n",
              "    }\n",
              "\n",
              "    .dataframe thead th {\n",
              "        text-align: right;\n",
              "    }\n",
              "</style>\n",
              "<table border=\"1\" class=\"dataframe\">\n",
              "  <thead>\n",
              "    <tr style=\"text-align: right;\">\n",
              "      <th></th>\n",
              "      <th>Car_Name</th>\n",
              "      <th>Year</th>\n",
              "      <th>Selling_Price</th>\n",
              "      <th>Present_Price</th>\n",
              "      <th>Kms_Driven</th>\n",
              "      <th>Fuel_Type</th>\n",
              "      <th>Seller_Type</th>\n",
              "      <th>Transmission</th>\n",
              "      <th>Owner</th>\n",
              "      <th>Current_Year</th>\n",
              "    </tr>\n",
              "  </thead>\n",
              "  <tbody>\n",
              "    <tr>\n",
              "      <th>0</th>\n",
              "      <td>ritz</td>\n",
              "      <td>2014</td>\n",
              "      <td>3.35</td>\n",
              "      <td>5.59</td>\n",
              "      <td>27000</td>\n",
              "      <td>Petrol</td>\n",
              "      <td>Dealer</td>\n",
              "      <td>Manual</td>\n",
              "      <td>0</td>\n",
              "      <td>2020</td>\n",
              "    </tr>\n",
              "    <tr>\n",
              "      <th>1</th>\n",
              "      <td>sx4</td>\n",
              "      <td>2013</td>\n",
              "      <td>4.75</td>\n",
              "      <td>9.54</td>\n",
              "      <td>43000</td>\n",
              "      <td>Diesel</td>\n",
              "      <td>Dealer</td>\n",
              "      <td>Manual</td>\n",
              "      <td>0</td>\n",
              "      <td>2020</td>\n",
              "    </tr>\n",
              "    <tr>\n",
              "      <th>2</th>\n",
              "      <td>ciaz</td>\n",
              "      <td>2017</td>\n",
              "      <td>7.25</td>\n",
              "      <td>9.85</td>\n",
              "      <td>6900</td>\n",
              "      <td>Petrol</td>\n",
              "      <td>Dealer</td>\n",
              "      <td>Manual</td>\n",
              "      <td>0</td>\n",
              "      <td>2020</td>\n",
              "    </tr>\n",
              "    <tr>\n",
              "      <th>3</th>\n",
              "      <td>wagon r</td>\n",
              "      <td>2011</td>\n",
              "      <td>2.85</td>\n",
              "      <td>4.15</td>\n",
              "      <td>5200</td>\n",
              "      <td>Petrol</td>\n",
              "      <td>Dealer</td>\n",
              "      <td>Manual</td>\n",
              "      <td>0</td>\n",
              "      <td>2020</td>\n",
              "    </tr>\n",
              "    <tr>\n",
              "      <th>4</th>\n",
              "      <td>swift</td>\n",
              "      <td>2014</td>\n",
              "      <td>4.60</td>\n",
              "      <td>6.87</td>\n",
              "      <td>42450</td>\n",
              "      <td>Diesel</td>\n",
              "      <td>Dealer</td>\n",
              "      <td>Manual</td>\n",
              "      <td>0</td>\n",
              "      <td>2020</td>\n",
              "    </tr>\n",
              "  </tbody>\n",
              "</table>\n",
              "</div>"
            ],
            "text/plain": [
              "  Car_Name  Year  Selling_Price  ...  Transmission  Owner Current_Year\n",
              "0     ritz  2014           3.35  ...        Manual      0         2020\n",
              "1      sx4  2013           4.75  ...        Manual      0         2020\n",
              "2     ciaz  2017           7.25  ...        Manual      0         2020\n",
              "3  wagon r  2011           2.85  ...        Manual      0         2020\n",
              "4    swift  2014           4.60  ...        Manual      0         2020\n",
              "\n",
              "[5 rows x 10 columns]"
            ]
          },
          "metadata": {
            "tags": []
          },
          "execution_count": 8
        }
      ]
    },
    {
      "cell_type": "code",
      "metadata": {
        "id": "P1-swh3g4xKf",
        "colab": {
          "base_uri": "https://localhost:8080/",
          "height": 206
        },
        "outputId": "ffbfacab-148b-4792-9b86-36b21d582d31"
      },
      "source": [
        "#creating a new column which will be age of vehicles; new feature\n",
        "dataset['Vehicle_Age'] = dataset['Current_Year'] - dataset['Year']\n",
        "dataset.head(5)"
      ],
      "execution_count": 9,
      "outputs": [
        {
          "output_type": "execute_result",
          "data": {
            "text/html": [
              "<div>\n",
              "<style scoped>\n",
              "    .dataframe tbody tr th:only-of-type {\n",
              "        vertical-align: middle;\n",
              "    }\n",
              "\n",
              "    .dataframe tbody tr th {\n",
              "        vertical-align: top;\n",
              "    }\n",
              "\n",
              "    .dataframe thead th {\n",
              "        text-align: right;\n",
              "    }\n",
              "</style>\n",
              "<table border=\"1\" class=\"dataframe\">\n",
              "  <thead>\n",
              "    <tr style=\"text-align: right;\">\n",
              "      <th></th>\n",
              "      <th>Car_Name</th>\n",
              "      <th>Year</th>\n",
              "      <th>Selling_Price</th>\n",
              "      <th>Present_Price</th>\n",
              "      <th>Kms_Driven</th>\n",
              "      <th>Fuel_Type</th>\n",
              "      <th>Seller_Type</th>\n",
              "      <th>Transmission</th>\n",
              "      <th>Owner</th>\n",
              "      <th>Current_Year</th>\n",
              "      <th>Vehicle_Age</th>\n",
              "    </tr>\n",
              "  </thead>\n",
              "  <tbody>\n",
              "    <tr>\n",
              "      <th>0</th>\n",
              "      <td>ritz</td>\n",
              "      <td>2014</td>\n",
              "      <td>3.35</td>\n",
              "      <td>5.59</td>\n",
              "      <td>27000</td>\n",
              "      <td>Petrol</td>\n",
              "      <td>Dealer</td>\n",
              "      <td>Manual</td>\n",
              "      <td>0</td>\n",
              "      <td>2020</td>\n",
              "      <td>6</td>\n",
              "    </tr>\n",
              "    <tr>\n",
              "      <th>1</th>\n",
              "      <td>sx4</td>\n",
              "      <td>2013</td>\n",
              "      <td>4.75</td>\n",
              "      <td>9.54</td>\n",
              "      <td>43000</td>\n",
              "      <td>Diesel</td>\n",
              "      <td>Dealer</td>\n",
              "      <td>Manual</td>\n",
              "      <td>0</td>\n",
              "      <td>2020</td>\n",
              "      <td>7</td>\n",
              "    </tr>\n",
              "    <tr>\n",
              "      <th>2</th>\n",
              "      <td>ciaz</td>\n",
              "      <td>2017</td>\n",
              "      <td>7.25</td>\n",
              "      <td>9.85</td>\n",
              "      <td>6900</td>\n",
              "      <td>Petrol</td>\n",
              "      <td>Dealer</td>\n",
              "      <td>Manual</td>\n",
              "      <td>0</td>\n",
              "      <td>2020</td>\n",
              "      <td>3</td>\n",
              "    </tr>\n",
              "    <tr>\n",
              "      <th>3</th>\n",
              "      <td>wagon r</td>\n",
              "      <td>2011</td>\n",
              "      <td>2.85</td>\n",
              "      <td>4.15</td>\n",
              "      <td>5200</td>\n",
              "      <td>Petrol</td>\n",
              "      <td>Dealer</td>\n",
              "      <td>Manual</td>\n",
              "      <td>0</td>\n",
              "      <td>2020</td>\n",
              "      <td>9</td>\n",
              "    </tr>\n",
              "    <tr>\n",
              "      <th>4</th>\n",
              "      <td>swift</td>\n",
              "      <td>2014</td>\n",
              "      <td>4.60</td>\n",
              "      <td>6.87</td>\n",
              "      <td>42450</td>\n",
              "      <td>Diesel</td>\n",
              "      <td>Dealer</td>\n",
              "      <td>Manual</td>\n",
              "      <td>0</td>\n",
              "      <td>2020</td>\n",
              "      <td>6</td>\n",
              "    </tr>\n",
              "  </tbody>\n",
              "</table>\n",
              "</div>"
            ],
            "text/plain": [
              "  Car_Name  Year  Selling_Price  ...  Owner  Current_Year Vehicle_Age\n",
              "0     ritz  2014           3.35  ...      0          2020           6\n",
              "1      sx4  2013           4.75  ...      0          2020           7\n",
              "2     ciaz  2017           7.25  ...      0          2020           3\n",
              "3  wagon r  2011           2.85  ...      0          2020           9\n",
              "4    swift  2014           4.60  ...      0          2020           6\n",
              "\n",
              "[5 rows x 11 columns]"
            ]
          },
          "metadata": {
            "tags": []
          },
          "execution_count": 9
        }
      ]
    },
    {
      "cell_type": "code",
      "metadata": {
        "id": "5iSh5EhR4xKg"
      },
      "source": [
        "#getting dummies for these columns with help of pandas library\n",
        "dataset = pd.get_dummies(dataset,columns=['Fuel_Type','Transmission','Seller_Type'],drop_first=True)"
      ],
      "execution_count": 10,
      "outputs": []
    },
    {
      "cell_type": "code",
      "metadata": {
        "id": "xC4Ww3h6G15v"
      },
      "source": [
        "#dropping the columns which are redundant and irrelevant\n",
        "dataset.drop(columns = ['Year'],inplace=True)\n",
        "dataset.drop(columns = ['Current_Year'],inplace=True)\n",
        "dataset.drop(columns = ['Car_Name'],inplace=True)"
      ],
      "execution_count": 11,
      "outputs": []
    },
    {
      "cell_type": "code",
      "metadata": {
        "colab": {
          "base_uri": "https://localhost:8080/",
          "height": 206
        },
        "id": "sliGOFqqG2DL",
        "outputId": "50cc6266-86b8-4224-98f1-cb42919f1d13"
      },
      "source": [
        "#check out the dataset with new changes\n",
        "dataset.head()"
      ],
      "execution_count": 12,
      "outputs": [
        {
          "output_type": "execute_result",
          "data": {
            "text/html": [
              "<div>\n",
              "<style scoped>\n",
              "    .dataframe tbody tr th:only-of-type {\n",
              "        vertical-align: middle;\n",
              "    }\n",
              "\n",
              "    .dataframe tbody tr th {\n",
              "        vertical-align: top;\n",
              "    }\n",
              "\n",
              "    .dataframe thead th {\n",
              "        text-align: right;\n",
              "    }\n",
              "</style>\n",
              "<table border=\"1\" class=\"dataframe\">\n",
              "  <thead>\n",
              "    <tr style=\"text-align: right;\">\n",
              "      <th></th>\n",
              "      <th>Selling_Price</th>\n",
              "      <th>Present_Price</th>\n",
              "      <th>Kms_Driven</th>\n",
              "      <th>Owner</th>\n",
              "      <th>Vehicle_Age</th>\n",
              "      <th>Fuel_Type_Diesel</th>\n",
              "      <th>Fuel_Type_Petrol</th>\n",
              "      <th>Transmission_Manual</th>\n",
              "      <th>Seller_Type_Individual</th>\n",
              "    </tr>\n",
              "  </thead>\n",
              "  <tbody>\n",
              "    <tr>\n",
              "      <th>0</th>\n",
              "      <td>3.35</td>\n",
              "      <td>5.59</td>\n",
              "      <td>27000</td>\n",
              "      <td>0</td>\n",
              "      <td>6</td>\n",
              "      <td>0</td>\n",
              "      <td>1</td>\n",
              "      <td>1</td>\n",
              "      <td>0</td>\n",
              "    </tr>\n",
              "    <tr>\n",
              "      <th>1</th>\n",
              "      <td>4.75</td>\n",
              "      <td>9.54</td>\n",
              "      <td>43000</td>\n",
              "      <td>0</td>\n",
              "      <td>7</td>\n",
              "      <td>1</td>\n",
              "      <td>0</td>\n",
              "      <td>1</td>\n",
              "      <td>0</td>\n",
              "    </tr>\n",
              "    <tr>\n",
              "      <th>2</th>\n",
              "      <td>7.25</td>\n",
              "      <td>9.85</td>\n",
              "      <td>6900</td>\n",
              "      <td>0</td>\n",
              "      <td>3</td>\n",
              "      <td>0</td>\n",
              "      <td>1</td>\n",
              "      <td>1</td>\n",
              "      <td>0</td>\n",
              "    </tr>\n",
              "    <tr>\n",
              "      <th>3</th>\n",
              "      <td>2.85</td>\n",
              "      <td>4.15</td>\n",
              "      <td>5200</td>\n",
              "      <td>0</td>\n",
              "      <td>9</td>\n",
              "      <td>0</td>\n",
              "      <td>1</td>\n",
              "      <td>1</td>\n",
              "      <td>0</td>\n",
              "    </tr>\n",
              "    <tr>\n",
              "      <th>4</th>\n",
              "      <td>4.60</td>\n",
              "      <td>6.87</td>\n",
              "      <td>42450</td>\n",
              "      <td>0</td>\n",
              "      <td>6</td>\n",
              "      <td>1</td>\n",
              "      <td>0</td>\n",
              "      <td>1</td>\n",
              "      <td>0</td>\n",
              "    </tr>\n",
              "  </tbody>\n",
              "</table>\n",
              "</div>"
            ],
            "text/plain": [
              "   Selling_Price  Present_Price  ...  Transmission_Manual  Seller_Type_Individual\n",
              "0           3.35           5.59  ...                    1                       0\n",
              "1           4.75           9.54  ...                    1                       0\n",
              "2           7.25           9.85  ...                    1                       0\n",
              "3           2.85           4.15  ...                    1                       0\n",
              "4           4.60           6.87  ...                    1                       0\n",
              "\n",
              "[5 rows x 9 columns]"
            ]
          },
          "metadata": {
            "tags": []
          },
          "execution_count": 12
        }
      ]
    },
    {
      "cell_type": "markdown",
      "metadata": {
        "id": "w3LeUPI44xKh"
      },
      "source": [
        "<ul>Fuel_Type feature:\n",
        "    <li>Fuel is Petrol if Fuel_type_diesel = 0 ,Fuel_Type_Petrol = 1</li>\n",
        "    <li>Fuel is Diesel if Fuel_type_diesel = 1 ,Fuel_Type_Petrol = 0</li>\n",
        "    <li>Fuel is cng if Fuel_type_diesel = 0 ,Fuel_Type_Petrol = 0</li>\n",
        "   </ul>\n",
        "<ul>Transmission feature:\n",
        "    <li>transmission is manual if Transmission_Manual = 1</li> \n",
        "    <li>transmission is automatic if Transmission_Manual = 0</li></ul>\n",
        "<ul>Seller_Type feature:\n",
        "    <li>Seller_Type is Individual if Seller_Type_Individual = 1 </li> \n",
        "    <li>Seller_Type is dealer if Seller_Type_Individual = 0</li> </ul>\n",
        "    \n"
      ]
    },
    {
      "cell_type": "markdown",
      "metadata": {
        "id": "WdGcBjl1IIZf"
      },
      "source": [
        "\n",
        "# **Data Exploration**"
      ]
    },
    {
      "cell_type": "code",
      "metadata": {
        "colab": {
          "base_uri": "https://localhost:8080/"
        },
        "id": "NJwOqSRvT_Zg",
        "outputId": "34fdfc1c-6f5a-4762-f71d-a4c14c800861"
      },
      "source": [
        "dataset.columns"
      ],
      "execution_count": 13,
      "outputs": [
        {
          "output_type": "execute_result",
          "data": {
            "text/plain": [
              "Index(['Selling_Price', 'Present_Price', 'Kms_Driven', 'Owner', 'Vehicle_Age',\n",
              "       'Fuel_Type_Diesel', 'Fuel_Type_Petrol', 'Transmission_Manual',\n",
              "       'Seller_Type_Individual'],\n",
              "      dtype='object')"
            ]
          },
          "metadata": {
            "tags": []
          },
          "execution_count": 13
        }
      ]
    },
    {
      "cell_type": "code",
      "metadata": {
        "id": "r0XJ8szfT_MR"
      },
      "source": [
        "# Listing categorical columns for checking data imbalance and plotting them\n",
        "col_category = ['Owner', 'Vehicle_Age',\n",
        "       'Fuel_Type_Diesel', 'Fuel_Type_Petrol', 'Transmission_Manual',\n",
        "       'Seller_Type_Individual']\n",
        "\n",
        "col_numeric = ['Selling_Price', 'Present_Price','Kms_Driven']"
      ],
      "execution_count": 14,
      "outputs": []
    },
    {
      "cell_type": "markdown",
      "metadata": {
        "id": "cwE1J9yRZMzB"
      },
      "source": [
        "## Data Distribution"
      ]
    },
    {
      "cell_type": "code",
      "metadata": {
        "colab": {
          "base_uri": "https://localhost:8080/",
          "height": 567
        },
        "id": "e41kVVopXGyx",
        "outputId": "f5878df5-2dc1-4a7e-937e-55e60b851099"
      },
      "source": [
        "# Visualising the numerical variables\n",
        "plt.figure(figsize=(12,12))\n",
        "sns.pairplot(dataset[col_numeric])\n",
        "plt.show()"
      ],
      "execution_count": 15,
      "outputs": [
        {
          "output_type": "display_data",
          "data": {
            "text/plain": [
              "<Figure size 864x864 with 0 Axes>"
            ]
          },
          "metadata": {
            "tags": []
          }
        },
        {
          "output_type": "display_data",
          "data": {
            "image/png": "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\n",
            "text/plain": [
              "<Figure size 540x540 with 12 Axes>"
            ]
          },
          "metadata": {
            "tags": [],
            "needs_background": "light"
          }
        }
      ]
    },
    {
      "cell_type": "code",
      "metadata": {
        "colab": {
          "base_uri": "https://localhost:8080/",
          "height": 710
        },
        "id": "x0FFxYi9Ydej",
        "outputId": "6d6fe652-d3e0-4a53-c017-a452b6613c5e"
      },
      "source": [
        "k=0\n",
        "plt.figure(figsize=(20,25))\n",
        "for col in col_category:    \n",
        "    k=k+1\n",
        "    plt.subplot(4, 3,k)    \n",
        "    dataset[col].value_counts().plot(kind='bar');\n",
        "    plt.title(col)"
      ],
      "execution_count": 16,
      "outputs": [
        {
          "output_type": "display_data",
          "data": {
            "image/png": "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\n",
            "text/plain": [
              "<Figure size 1440x1800 with 6 Axes>"
            ]
          },
          "metadata": {
            "tags": [],
            "needs_background": "light"
          }
        }
      ]
    },
    {
      "cell_type": "markdown",
      "metadata": {
        "id": "Zy4ApFJrZzyW"
      },
      "source": [
        "# Data Distribution with respect to the Selling Price"
      ]
    },
    {
      "cell_type": "code",
      "metadata": {
        "colab": {
          "base_uri": "https://localhost:8080/",
          "height": 528
        },
        "id": "4B0my8b0Y3nW",
        "outputId": "552e8bfc-33fd-442b-b62d-a96f05edff38"
      },
      "source": [
        "# Boxplot for all categorical variables except CarCompany\n",
        "# As X labels are not clearly visible for CarCompany. It is plotted in the next cell with bigger figure size.\n",
        "k=0\n",
        "plt.figure(figsize=(20,18))\n",
        "for col in range (len(col_category)-1):    \n",
        "    k=k+1\n",
        "    plt.subplot(4, 3, k)   \n",
        "    ax = sns.barplot(x = col_category[col], y = 'Selling_Price', data = dataset)"
      ],
      "execution_count": 34,
      "outputs": [
        {
          "output_type": "display_data",
          "data": {
            "image/png": "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\n",
            "text/plain": [
              "<Figure size 1440x1296 with 5 Axes>"
            ]
          },
          "metadata": {
            "tags": [],
            "needs_background": "light"
          }
        }
      ]
    },
    {
      "cell_type": "code",
      "metadata": {
        "colab": {
          "base_uri": "https://localhost:8080/",
          "height": 612
        },
        "id": "tRaBg0vzZScR",
        "outputId": "745080e1-89dd-4b86-81e2-ec3d8b615c0c"
      },
      "source": [
        "dataset.plot.scatter(x ='Selling_Price', y = 'Present_Price', rot=45, figsize=(10, 10))\n",
        "plt.show()"
      ],
      "execution_count": 18,
      "outputs": [
        {
          "output_type": "display_data",
          "data": {
            "image/png": "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\n",
            "text/plain": [
              "<Figure size 720x720 with 1 Axes>"
            ]
          },
          "metadata": {
            "tags": [],
            "needs_background": "light"
          }
        }
      ]
    },
    {
      "cell_type": "code",
      "metadata": {
        "id": "Bsxa1qCGcyRS",
        "colab": {
          "base_uri": "https://localhost:8080/",
          "height": 612
        },
        "outputId": "277f9099-d9c4-44cf-e752-62974e8d6420"
      },
      "source": [
        "dataset.plot.scatter(x ='Selling_Price', y = 'Kms_Driven', rot=45, figsize=(10, 10))\n",
        "plt.show()"
      ],
      "execution_count": 19,
      "outputs": [
        {
          "output_type": "display_data",
          "data": {
            "image/png": "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\n",
            "text/plain": [
              "<Figure size 720x720 with 1 Axes>"
            ]
          },
          "metadata": {
            "tags": [],
            "needs_background": "light"
          }
        }
      ]
    },
    {
      "cell_type": "markdown",
      "metadata": {
        "id": "PAgmfReiNxQ_"
      },
      "source": [
        "# Correlation"
      ]
    },
    {
      "cell_type": "markdown",
      "metadata": {
        "id": "2fQG7QT54xKk"
      },
      "source": [
        "### Heat map"
      ]
    },
    {
      "cell_type": "code",
      "metadata": {
        "id": "c0x5y_O84xKk",
        "colab": {
          "base_uri": "https://localhost:8080/",
          "height": 1000
        },
        "outputId": "071d03b8-7db1-4c71-b483-6ffcc92dbca1"
      },
      "source": [
        "#create correlation matrix\n",
        "correlations = dataset.corr()\n",
        "indx=correlations.index\n",
        "\n",
        "#plot this correlation for clear visualisation\n",
        "plt.figure(figsize=(26,22))\n",
        "#annot = True , dsiplays text over the cells.\n",
        "#cmap = \"YlGnBu\" is nothing but adjustment of colors for our heatmap\n",
        "sns.heatmap(dataset[indx].corr(),annot=True,cmap=\"YlGnBu\")\n",
        "#amount of darkness shows how our features are correalated with each other \n"
      ],
      "execution_count": 21,
      "outputs": [
        {
          "output_type": "execute_result",
          "data": {
            "text/plain": [
              "<matplotlib.axes._subplots.AxesSubplot at 0x7f8c4ec2f190>"
            ]
          },
          "metadata": {
            "tags": []
          },
          "execution_count": 21
        },
        {
          "output_type": "display_data",
          "data": {
            "image/png": "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\n",
            "text/plain": [
              "<Figure size 1872x1584 with 2 Axes>"
            ]
          },
          "metadata": {
            "tags": [],
            "needs_background": "light"
          }
        }
      ]
    },
    {
      "cell_type": "code",
      "metadata": {
        "colab": {
          "base_uri": "https://localhost:8080/",
          "height": 601
        },
        "id": "OhUdSB0BHKhf",
        "outputId": "c9c33d1a-c5d7-4782-8d43-4cbc61f2961b"
      },
      "source": [
        "#Get Correlation of \"selling price\" with other variables:\n",
        "plt.figure(figsize=(15,8))\n",
        "dataset.corr()['Selling_Price'].sort_values(ascending = False).plot(kind='bar')"
      ],
      "execution_count": 22,
      "outputs": [
        {
          "output_type": "execute_result",
          "data": {
            "text/plain": [
              "<matplotlib.axes._subplots.AxesSubplot at 0x7f8c4ec2f110>"
            ]
          },
          "metadata": {
            "tags": []
          },
          "execution_count": 22
        },
        {
          "output_type": "display_data",
          "data": {
            "image/png": "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\n",
            "text/plain": [
              "<Figure size 1080x576 with 1 Axes>"
            ]
          },
          "metadata": {
            "tags": [],
            "needs_background": "light"
          }
        }
      ]
    },
    {
      "cell_type": "markdown",
      "metadata": {
        "id": "Sdi3LbHH4xKm"
      },
      "source": [
        "### Features and target variable"
      ]
    },
    {
      "cell_type": "code",
      "metadata": {
        "id": "EPjlFwFg4xKm"
      },
      "source": [
        "# taking all the features except \"selling price\"\n",
        "X = dataset.iloc[:,1:]\n",
        "# taking \"selling price\" as y , as it is our target variable\n",
        "y = dataset.iloc[:,0]"
      ],
      "execution_count": 23,
      "outputs": []
    },
    {
      "cell_type": "markdown",
      "metadata": {
        "id": "FDIy9uJ54xKo"
      },
      "source": [
        "### Feature Importance"
      ]
    },
    {
      "cell_type": "code",
      "metadata": {
        "id": "8BGA-1sN4xKp",
        "colab": {
          "base_uri": "https://localhost:8080/"
        },
        "outputId": "1cc86a5c-9f1b-45d1-c57a-dfd88c9b36b9"
      },
      "source": [
        "#checking and comparing the importance of features\n",
        "from sklearn.ensemble import ExtraTreesRegressor\n",
        "#creating object\n",
        "model = ExtraTreesRegressor()\n",
        "#fit the model\n",
        "model.fit(X,y)\n",
        "print(model.feature_importances_)"
      ],
      "execution_count": null,
      "outputs": [
        {
          "output_type": "stream",
          "text": [
            "[0.38212757 0.04247186 0.00091619 0.07413438 0.21788545 0.01474388\n",
            " 0.13266699 0.13505368]\n"
          ],
          "name": "stdout"
        }
      ]
    },
    {
      "cell_type": "code",
      "metadata": {
        "id": "s4m7ccXL4xKw",
        "colab": {
          "base_uri": "https://localhost:8080/",
          "height": 265
        },
        "outputId": "bf004cce-f357-4897-8bed-5632bac3bcc4"
      },
      "source": [
        "#plot graph of feature importances for better visualization\n",
        "feat_importances = pd.Series(model.feature_importances_, index=X.columns)\n",
        "# considering top 5 important features\n",
        "feat_importances.nlargest(5).plot(kind='barh')\n",
        "plt.show()\n"
      ],
      "execution_count": null,
      "outputs": [
        {
          "output_type": "display_data",
          "data": {
            "image/png": "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\n",
            "text/plain": [
              "<Figure size 432x288 with 1 Axes>"
            ]
          },
          "metadata": {
            "tags": [],
            "needs_background": "light"
          }
        }
      ]
    },
    {
      "cell_type": "markdown",
      "metadata": {
        "id": "AGBLKN694xKz"
      },
      "source": [
        "### Splitting data into training and testing"
      ]
    },
    {
      "cell_type": "code",
      "metadata": {
        "id": "UC6vjou44xK4"
      },
      "source": [
        "#splitting the data\n",
        "from sklearn.model_selection import train_test_split\n",
        "X_train, X_test, y_train, y_test = train_test_split(X, y, test_size=0.3, random_state=0)"
      ],
      "execution_count": null,
      "outputs": []
    },
    {
      "cell_type": "markdown",
      "metadata": {
        "id": "xtn1mCvP4xK-"
      },
      "source": [
        "# Fitting and evaluating different models\n",
        "Here I am using three models :\n",
        "1. Linear Regression\n",
        "2. Decision Tree\n",
        "3. Random forest Regressor\n",
        "\n",
        "I will fit these models and then choose one with the better accuracy.\n",
        "You can use any regression model as per your choice."
      ]
    },
    {
      "cell_type": "markdown",
      "metadata": {
        "id": "LCdQf3ql4xK_"
      },
      "source": [
        "## Linear Regression Model"
      ]
    },
    {
      "cell_type": "code",
      "metadata": {
        "id": "pCZk8mCM4xLA",
        "colab": {
          "base_uri": "https://localhost:8080/"
        },
        "outputId": "7d3ec21e-82a5-494c-9e87-95d3db3dba45"
      },
      "source": [
        "from sklearn.model_selection import GridSearchCV, cross_val_score, train_test_split, GridSearchCV, RandomizedSearchCV\n",
        "from sklearn.metrics import precision_score, recall_score, confusion_matrix,  roc_curve, precision_recall_curve, accuracy_score, roc_auc_score\n",
        "from sklearn.linear_model import LinearRegression\n",
        "\n",
        "#creating object for linear regression\n",
        "model_lin=LinearRegression()\n",
        "\n",
        "#fitting the linear regression model\n",
        "model_lin.fit(X_train,y_train)"
      ],
      "execution_count": null,
      "outputs": [
        {
          "output_type": "execute_result",
          "data": {
            "text/plain": [
              "LinearRegression(copy_X=True, fit_intercept=True, n_jobs=None, normalize=False)"
            ]
          },
          "metadata": {
            "tags": []
          },
          "execution_count": 88
        }
      ]
    },
    {
      "cell_type": "code",
      "metadata": {
        "id": "TC4up_eNIzBv"
      },
      "source": [
        "# Predict on the test data: y_pred\n",
        "y_pred = model_lin.predict(X_test)"
      ],
      "execution_count": null,
      "outputs": []
    },
    {
      "cell_type": "code",
      "metadata": {
        "colab": {
          "base_uri": "https://localhost:8080/"
        },
        "id": "9qjW3tmYPQTN",
        "outputId": "e05aece3-2e1b-43b7-9b12-5aeb3588e3cb"
      },
      "source": [
        "from sklearn.metrics import r2_score, mean_squared_error\n",
        "print(\"accuracy is: \", r2_score(y_test,y_pred))"
      ],
      "execution_count": null,
      "outputs": [
        {
          "output_type": "stream",
          "text": [
            "accuracy is:  0.8517983059778262\n"
          ],
          "name": "stdout"
        }
      ]
    },
    {
      "cell_type": "code",
      "metadata": {
        "colab": {
          "base_uri": "https://localhost:8080/"
        },
        "id": "TytyZOz4I01A",
        "outputId": "c5411818-9b22-4865-b62c-471a24d4400a"
      },
      "source": [
        "#metrics\n",
        "from sklearn import metrics\n",
        "#print mean absolute error\n",
        "print('MAE:', metrics.mean_absolute_error(y_test, y_pred))\n",
        "#print mean squared error\n",
        "print('MSE:', metrics.mean_squared_error(y_test, y_pred))\n",
        "#print the root mean squared error\n",
        "print('RMSE:', np.sqrt(metrics.mean_squared_error(y_test, y_pred)))"
      ],
      "execution_count": null,
      "outputs": [
        {
          "output_type": "stream",
          "text": [
            "MAE: 1.2426713915033711\n",
            "MSE: 4.432128265667619\n",
            "RMSE: 2.1052620420431323\n",
            "R2: 0.8517983059778262\n"
          ],
          "name": "stdout"
        }
      ]
    },
    {
      "cell_type": "markdown",
      "metadata": {
        "id": "26fpXmz84xLC"
      },
      "source": [
        "## Decision tree Model"
      ]
    },
    {
      "cell_type": "code",
      "metadata": {
        "id": "ouDbckh_4xLD",
        "colab": {
          "base_uri": "https://localhost:8080/"
        },
        "outputId": "430009dd-d9ea-4414-c134-851a8531285a"
      },
      "source": [
        "from sklearn.tree import DecisionTreeRegressor\n",
        "\n",
        "#creating object for Decision tree\n",
        "model_tree = DecisionTreeRegressor()\n",
        "\n",
        "#fitting the decision tree model\n",
        "model_tree.fit(X_train,y_train)"
      ],
      "execution_count": null,
      "outputs": [
        {
          "output_type": "execute_result",
          "data": {
            "text/plain": [
              "DecisionTreeRegressor(ccp_alpha=0.0, criterion='mse', max_depth=None,\n",
              "                      max_features=None, max_leaf_nodes=None,\n",
              "                      min_impurity_decrease=0.0, min_impurity_split=None,\n",
              "                      min_samples_leaf=1, min_samples_split=2,\n",
              "                      min_weight_fraction_leaf=0.0, presort='deprecated',\n",
              "                      random_state=None, splitter='best')"
            ]
          },
          "metadata": {
            "tags": []
          },
          "execution_count": 92
        }
      ]
    },
    {
      "cell_type": "code",
      "metadata": {
        "id": "50-YL72-OQlQ"
      },
      "source": [
        "# Predict on the test data: y_pred\n",
        "y_pred = model_tree.predict(X_test)"
      ],
      "execution_count": null,
      "outputs": []
    },
    {
      "cell_type": "code",
      "metadata": {
        "colab": {
          "base_uri": "https://localhost:8080/"
        },
        "id": "LOgyJRddP_CD",
        "outputId": "959240eb-96af-4d9f-c134-f6993c2a9a6f"
      },
      "source": [
        "print(\"accuracy is: \", r2_score(y_test,y_pred))"
      ],
      "execution_count": null,
      "outputs": [
        {
          "output_type": "stream",
          "text": [
            "accuracy is:  0.9125569462868613\n"
          ],
          "name": "stdout"
        }
      ]
    },
    {
      "cell_type": "code",
      "metadata": {
        "colab": {
          "base_uri": "https://localhost:8080/"
        },
        "id": "rnOv4xlxOQqr",
        "outputId": "3491fb4c-5e1f-46a6-f52d-4c48f0d37b78"
      },
      "source": [
        "#print errors\n",
        "from sklearn import metrics\n",
        "print('MAE:', metrics.mean_absolute_error(y_test, y_pred))\n",
        "print('MSE:', metrics.mean_squared_error(y_test, y_pred))\n",
        "print('RMSE:', np.sqrt(metrics.mean_squared_error(y_test, y_pred)))"
      ],
      "execution_count": null,
      "outputs": [
        {
          "output_type": "stream",
          "text": [
            "MAE: 0.8681318681318682\n",
            "MSE: 2.615076923076924\n",
            "RMSE: 1.6171199470283346\n",
            "R2: 0.9125569462868613\n"
          ],
          "name": "stdout"
        }
      ]
    },
    {
      "cell_type": "markdown",
      "metadata": {
        "id": "U3kcYQIK4xLE"
      },
      "source": [
        "## Random Forest Model"
      ]
    },
    {
      "cell_type": "code",
      "metadata": {
        "id": "vYPzNh304xLE",
        "colab": {
          "base_uri": "https://localhost:8080/"
        },
        "outputId": "0e3b65f5-f160-4cf4-d587-6e161bb367f1"
      },
      "source": [
        "from sklearn.ensemble import RandomForestRegressor\n",
        "\n",
        "#creating object for Random forest regressor\n",
        "model_rf = RandomForestRegressor(n_estimators = 100, random_state = 42)\n",
        "\n",
        "#fitting the rf model\n",
        "model_rf.fit(X_train,y_train)"
      ],
      "execution_count": null,
      "outputs": [
        {
          "output_type": "execute_result",
          "data": {
            "text/plain": [
              "RandomForestRegressor(bootstrap=True, ccp_alpha=0.0, criterion='mse',\n",
              "                      max_depth=None, max_features='auto', max_leaf_nodes=None,\n",
              "                      max_samples=None, min_impurity_decrease=0.0,\n",
              "                      min_impurity_split=None, min_samples_leaf=1,\n",
              "                      min_samples_split=2, min_weight_fraction_leaf=0.0,\n",
              "                      n_estimators=100, n_jobs=None, oob_score=False,\n",
              "                      random_state=42, verbose=0, warm_start=False)"
            ]
          },
          "metadata": {
            "tags": []
          },
          "execution_count": 96
        }
      ]
    },
    {
      "cell_type": "code",
      "metadata": {
        "id": "WewIQPpWL5dY"
      },
      "source": [
        "# Predict on the test data: y_pred\n",
        "y_pred = model_rf.predict(X_test)"
      ],
      "execution_count": null,
      "outputs": []
    },
    {
      "cell_type": "code",
      "metadata": {
        "colab": {
          "base_uri": "https://localhost:8080/"
        },
        "id": "7i9dUwgXRaBG",
        "outputId": "0ce3de52-eabc-46ea-f813-a9b8e40b8504"
      },
      "source": [
        "print(\"accuracy is: \", r2_score(y_test,y_pred))"
      ],
      "execution_count": null,
      "outputs": [
        {
          "output_type": "stream",
          "text": [
            "accuracy is:  0.9117887406066014\n"
          ],
          "name": "stdout"
        }
      ]
    },
    {
      "cell_type": "code",
      "metadata": {
        "colab": {
          "base_uri": "https://localhost:8080/"
        },
        "id": "BgeHnFVEL14k",
        "outputId": "c421aecd-fb83-4e38-9069-8a34171fb435"
      },
      "source": [
        "#print errors\n",
        "from sklearn import metrics\n",
        "print('MAE:', metrics.mean_absolute_error(y_test, y_pred))\n",
        "print('MSE:', metrics.mean_squared_error(y_test, y_pred))\n",
        "print('RMSE:', np.sqrt(metrics.mean_squared_error(y_test, y_pred)))"
      ],
      "execution_count": null,
      "outputs": [
        {
          "output_type": "stream",
          "text": [
            "MAE: 0.7551296703296704\n",
            "MSE: 2.6380509257142837\n",
            "RMSE: 1.6242077840332756\n",
            "R2: 0.9117887406066014\n"
          ],
          "name": "stdout"
        }
      ]
    },
    {
      "cell_type": "markdown",
      "metadata": {
        "id": "BI7pTJVI4xLF"
      },
      "source": [
        "#### We want our R2 score to be maximum and other errors to be minimum for better results"
      ]
    },
    {
      "cell_type": "markdown",
      "metadata": {
        "id": "pRBu16884xLG"
      },
      "source": [
        "### Random forest regressor is giving better results. therefore we will hypertune this model and then fit, predict."
      ]
    },
    {
      "cell_type": "markdown",
      "metadata": {
        "id": "_43Apa374xLG"
      },
      "source": [
        "# Hyperparamter tuning"
      ]
    },
    {
      "cell_type": "code",
      "metadata": {
        "id": "m365cUnD4xLH",
        "colab": {
          "base_uri": "https://localhost:8080/"
        },
        "outputId": "3e9773d2-881d-47f5-9c78-d6f0dbd3305d"
      },
      "source": [
        "#n_estimators = The number of trees in the forest.\n",
        "n_estimators = [int(x) for x in np.linspace(start = 100, stop = 1200, num = 12)]\n",
        "print(n_estimators)"
      ],
      "execution_count": null,
      "outputs": [
        {
          "output_type": "stream",
          "text": [
            "[100, 200, 300, 400, 500, 600, 700, 800, 900, 1000, 1100, 1200]\n"
          ],
          "name": "stdout"
        }
      ]
    },
    {
      "cell_type": "code",
      "metadata": {
        "id": "9W48_Ddw4xLH"
      },
      "source": [
        "from sklearn.model_selection import RandomizedSearchCV\n",
        "\n",
        "#Randomized Search CV\n",
        "\n",
        "# Number of trees in random forest\n",
        "n_estimators = [int(x) for x in np.linspace(start = 100, stop = 1200, num = 12)]\n",
        "# Number of features to consider at every split\n",
        "max_features = ['auto', 'sqrt']\n",
        "# Maximum number of levels in tree\n",
        "max_depth = [int(x) for x in np.linspace(5, 30, num = 6)]\n",
        "# max_depth.append(None)\n",
        "# Minimum number of samples required to split a node\n",
        "min_samples_split = [2, 5, 10, 15, 100]\n",
        "# Minimum number of samples required at each leaf node\n",
        "min_samples_leaf = [1, 2, 5, 10]\n"
      ],
      "execution_count": null,
      "outputs": []
    },
    {
      "cell_type": "code",
      "metadata": {
        "id": "HI9V1CAl4xLI",
        "colab": {
          "base_uri": "https://localhost:8080/"
        },
        "outputId": "49415d15-7f23-4072-c527-272e1c343e4a"
      },
      "source": [
        "# Create the random grid\n",
        "random_grid = {'n_estimators': n_estimators,\n",
        "               'max_features': max_features,\n",
        "               'max_depth': max_depth,\n",
        "               'min_samples_split': min_samples_split,\n",
        "               'min_samples_leaf': min_samples_leaf}\n",
        "\n",
        "print(random_grid)"
      ],
      "execution_count": null,
      "outputs": [
        {
          "output_type": "stream",
          "text": [
            "{'n_estimators': [100, 200, 300, 400, 500, 600, 700, 800, 900, 1000, 1100, 1200], 'max_features': ['auto', 'sqrt'], 'max_depth': [5, 10, 15, 20, 25, 30], 'min_samples_split': [2, 5, 10, 15, 100], 'min_samples_leaf': [1, 2, 5, 10]}\n"
          ],
          "name": "stdout"
        }
      ]
    },
    {
      "cell_type": "code",
      "metadata": {
        "id": "7ZSw-d0o4xLJ"
      },
      "source": [
        "# Use the random grid to search for best hyperparameters\n",
        "# First create the base model to tune\n",
        "rf = RandomForestRegressor()"
      ],
      "execution_count": null,
      "outputs": []
    },
    {
      "cell_type": "code",
      "metadata": {
        "id": "qRciJxhm4xLK"
      },
      "source": [
        "# Random search of parameters, using 3 fold cross validation, \n",
        "# search across 100 different combinations\n",
        "rf_random = RandomizedSearchCV(estimator = rf, param_distributions = random_grid,scoring='neg_mean_squared_error', n_iter = 100, cv = 5, verbose=2, random_state=42, n_jobs = 1)"
      ],
      "execution_count": null,
      "outputs": []
    },
    {
      "cell_type": "code",
      "metadata": {
        "id": "JJDZG8dR4xLK",
        "colab": {
          "base_uri": "https://localhost:8080/"
        },
        "outputId": "3f942256-91ef-4ecd-9df6-bf6e721ee4cc"
      },
      "source": [
        "#fit the random forest model\n",
        "rf_random.fit(X_train,y_train)"
      ],
      "execution_count": null,
      "outputs": [
        {
          "output_type": "stream",
          "text": [
            "Fitting 5 folds for each of 100 candidates, totalling 500 fits\n",
            "[CV] n_estimators=400, min_samples_split=100, min_samples_leaf=10, max_features=sqrt, max_depth=5 \n"
          ],
          "name": "stdout"
        },
        {
          "output_type": "stream",
          "text": [
            "[Parallel(n_jobs=1)]: Using backend SequentialBackend with 1 concurrent workers.\n"
          ],
          "name": "stderr"
        },
        {
          "output_type": "stream",
          "text": [
            "[CV]  n_estimators=400, min_samples_split=100, min_samples_leaf=10, max_features=sqrt, max_depth=5, total=   0.5s\n",
            "[CV] n_estimators=400, min_samples_split=100, min_samples_leaf=10, max_features=sqrt, max_depth=5 \n"
          ],
          "name": "stdout"
        },
        {
          "output_type": "stream",
          "text": [
            "[Parallel(n_jobs=1)]: Done   1 out of   1 | elapsed:    0.5s remaining:    0.0s\n"
          ],
          "name": "stderr"
        },
        {
          "output_type": "stream",
          "text": [
            "[CV]  n_estimators=400, min_samples_split=100, min_samples_leaf=10, max_features=sqrt, max_depth=5, total=   0.5s\n",
            "[CV] n_estimators=400, min_samples_split=100, min_samples_leaf=10, max_features=sqrt, max_depth=5 \n",
            "[CV]  n_estimators=400, min_samples_split=100, min_samples_leaf=10, max_features=sqrt, max_depth=5, total=   0.5s\n",
            "[CV] n_estimators=400, min_samples_split=100, min_samples_leaf=10, max_features=sqrt, max_depth=5 \n",
            "[CV]  n_estimators=400, min_samples_split=100, min_samples_leaf=10, max_features=sqrt, max_depth=5, total=   0.5s\n",
            "[CV] n_estimators=400, min_samples_split=100, min_samples_leaf=10, max_features=sqrt, max_depth=5 \n",
            "[CV]  n_estimators=400, min_samples_split=100, min_samples_leaf=10, max_features=sqrt, max_depth=5, total=   0.5s\n",
            "[CV] n_estimators=200, min_samples_split=5, min_samples_leaf=1, max_features=auto, max_depth=20 \n",
            "[CV]  n_estimators=200, min_samples_split=5, min_samples_leaf=1, max_features=auto, max_depth=20, total=   0.3s\n",
            "[CV] n_estimators=200, min_samples_split=5, min_samples_leaf=1, max_features=auto, max_depth=20 \n",
            "[CV]  n_estimators=200, min_samples_split=5, min_samples_leaf=1, max_features=auto, max_depth=20, total=   0.3s\n",
            "[CV] n_estimators=200, min_samples_split=5, min_samples_leaf=1, max_features=auto, max_depth=20 \n",
            "[CV]  n_estimators=200, min_samples_split=5, min_samples_leaf=1, max_features=auto, max_depth=20, total=   0.3s\n",
            "[CV] n_estimators=200, min_samples_split=5, min_samples_leaf=1, max_features=auto, max_depth=20 \n",
            "[CV]  n_estimators=200, min_samples_split=5, min_samples_leaf=1, max_features=auto, max_depth=20, total=   0.3s\n",
            "[CV] n_estimators=200, min_samples_split=5, min_samples_leaf=1, max_features=auto, max_depth=20 \n",
            "[CV]  n_estimators=200, min_samples_split=5, min_samples_leaf=1, max_features=auto, max_depth=20, total=   0.3s\n",
            "[CV] n_estimators=200, min_samples_split=15, min_samples_leaf=10, max_features=sqrt, max_depth=25 \n",
            "[CV]  n_estimators=200, min_samples_split=15, min_samples_leaf=10, max_features=sqrt, max_depth=25, total=   0.3s\n",
            "[CV] n_estimators=200, min_samples_split=15, min_samples_leaf=10, max_features=sqrt, max_depth=25 \n",
            "[CV]  n_estimators=200, min_samples_split=15, min_samples_leaf=10, max_features=sqrt, max_depth=25, total=   0.2s\n",
            "[CV] n_estimators=200, min_samples_split=15, min_samples_leaf=10, max_features=sqrt, max_depth=25 \n",
            "[CV]  n_estimators=200, min_samples_split=15, min_samples_leaf=10, max_features=sqrt, max_depth=25, total=   0.3s\n",
            "[CV] n_estimators=200, min_samples_split=15, min_samples_leaf=10, max_features=sqrt, max_depth=25 \n",
            "[CV]  n_estimators=200, min_samples_split=15, min_samples_leaf=10, max_features=sqrt, max_depth=25, total=   0.3s\n",
            "[CV] n_estimators=200, min_samples_split=15, min_samples_leaf=10, max_features=sqrt, max_depth=25 \n",
            "[CV]  n_estimators=200, min_samples_split=15, min_samples_leaf=10, max_features=sqrt, max_depth=25, total=   0.2s\n",
            "[CV] n_estimators=600, min_samples_split=15, min_samples_leaf=5, max_features=auto, max_depth=20 \n",
            "[CV]  n_estimators=600, min_samples_split=15, min_samples_leaf=5, max_features=auto, max_depth=20, total=   0.8s\n",
            "[CV] n_estimators=600, min_samples_split=15, min_samples_leaf=5, max_features=auto, max_depth=20 \n",
            "[CV]  n_estimators=600, min_samples_split=15, min_samples_leaf=5, max_features=auto, max_depth=20, total=   0.8s\n",
            "[CV] n_estimators=600, min_samples_split=15, min_samples_leaf=5, max_features=auto, max_depth=20 \n",
            "[CV]  n_estimators=600, min_samples_split=15, min_samples_leaf=5, max_features=auto, max_depth=20, total=   0.8s\n",
            "[CV] n_estimators=600, min_samples_split=15, min_samples_leaf=5, max_features=auto, max_depth=20 \n",
            "[CV]  n_estimators=600, min_samples_split=15, min_samples_leaf=5, max_features=auto, max_depth=20, total=   0.8s\n",
            "[CV] n_estimators=600, min_samples_split=15, min_samples_leaf=5, max_features=auto, max_depth=20 \n",
            "[CV]  n_estimators=600, min_samples_split=15, min_samples_leaf=5, max_features=auto, max_depth=20, total=   0.8s\n",
            "[CV] n_estimators=300, min_samples_split=5, min_samples_leaf=5, max_features=auto, max_depth=15 \n",
            "[CV]  n_estimators=300, min_samples_split=5, min_samples_leaf=5, max_features=auto, max_depth=15, total=   0.4s\n",
            "[CV] n_estimators=300, min_samples_split=5, min_samples_leaf=5, max_features=auto, max_depth=15 \n",
            "[CV]  n_estimators=300, min_samples_split=5, min_samples_leaf=5, max_features=auto, max_depth=15, total=   0.4s\n",
            "[CV] n_estimators=300, min_samples_split=5, min_samples_leaf=5, max_features=auto, max_depth=15 \n",
            "[CV]  n_estimators=300, min_samples_split=5, min_samples_leaf=5, max_features=auto, max_depth=15, total=   0.4s\n",
            "[CV] n_estimators=300, min_samples_split=5, min_samples_leaf=5, max_features=auto, max_depth=15 \n",
            "[CV]  n_estimators=300, min_samples_split=5, min_samples_leaf=5, max_features=auto, max_depth=15, total=   0.4s\n",
            "[CV] n_estimators=300, min_samples_split=5, min_samples_leaf=5, max_features=auto, max_depth=15 \n",
            "[CV]  n_estimators=300, min_samples_split=5, min_samples_leaf=5, max_features=auto, max_depth=15, total=   0.4s\n",
            "[CV] n_estimators=800, min_samples_split=100, min_samples_leaf=1, max_features=sqrt, max_depth=15 \n",
            "[CV]  n_estimators=800, min_samples_split=100, min_samples_leaf=1, max_features=sqrt, max_depth=15, total=   1.0s\n",
            "[CV] n_estimators=800, min_samples_split=100, min_samples_leaf=1, max_features=sqrt, max_depth=15 \n",
            "[CV]  n_estimators=800, min_samples_split=100, min_samples_leaf=1, max_features=sqrt, max_depth=15, total=   1.0s\n",
            "[CV] n_estimators=800, min_samples_split=100, min_samples_leaf=1, max_features=sqrt, max_depth=15 \n",
            "[CV]  n_estimators=800, min_samples_split=100, min_samples_leaf=1, max_features=sqrt, max_depth=15, total=   1.0s\n",
            "[CV] n_estimators=800, min_samples_split=100, min_samples_leaf=1, max_features=sqrt, max_depth=15 \n",
            "[CV]  n_estimators=800, min_samples_split=100, min_samples_leaf=1, max_features=sqrt, max_depth=15, total=   1.0s\n",
            "[CV] n_estimators=800, min_samples_split=100, min_samples_leaf=1, max_features=sqrt, max_depth=15 \n",
            "[CV]  n_estimators=800, min_samples_split=100, min_samples_leaf=1, max_features=sqrt, max_depth=15, total=   1.0s\n",
            "[CV] n_estimators=100, min_samples_split=100, min_samples_leaf=5, max_features=auto, max_depth=15 \n",
            "[CV]  n_estimators=100, min_samples_split=100, min_samples_leaf=5, max_features=auto, max_depth=15, total=   0.1s\n",
            "[CV] n_estimators=100, min_samples_split=100, min_samples_leaf=5, max_features=auto, max_depth=15 \n",
            "[CV]  n_estimators=100, min_samples_split=100, min_samples_leaf=5, max_features=auto, max_depth=15, total=   0.1s\n",
            "[CV] n_estimators=100, min_samples_split=100, min_samples_leaf=5, max_features=auto, max_depth=15 \n",
            "[CV]  n_estimators=100, min_samples_split=100, min_samples_leaf=5, max_features=auto, max_depth=15, total=   0.1s\n",
            "[CV] n_estimators=100, min_samples_split=100, min_samples_leaf=5, max_features=auto, max_depth=15 \n",
            "[CV]  n_estimators=100, min_samples_split=100, min_samples_leaf=5, max_features=auto, max_depth=15, total=   0.1s\n",
            "[CV] n_estimators=100, min_samples_split=100, min_samples_leaf=5, max_features=auto, max_depth=15 \n",
            "[CV]  n_estimators=100, min_samples_split=100, min_samples_leaf=5, max_features=auto, max_depth=15, total=   0.1s\n",
            "[CV] n_estimators=900, min_samples_split=10, min_samples_leaf=2, max_features=sqrt, max_depth=25 \n",
            "[CV]  n_estimators=900, min_samples_split=10, min_samples_leaf=2, max_features=sqrt, max_depth=25, total=   1.2s\n",
            "[CV] n_estimators=900, min_samples_split=10, min_samples_leaf=2, max_features=sqrt, max_depth=25 \n",
            "[CV]  n_estimators=900, min_samples_split=10, min_samples_leaf=2, max_features=sqrt, max_depth=25, total=   1.1s\n",
            "[CV] n_estimators=900, min_samples_split=10, min_samples_leaf=2, max_features=sqrt, max_depth=25 \n",
            "[CV]  n_estimators=900, min_samples_split=10, min_samples_leaf=2, max_features=sqrt, max_depth=25, total=   1.1s\n",
            "[CV] n_estimators=900, min_samples_split=10, min_samples_leaf=2, max_features=sqrt, max_depth=25 \n",
            "[CV]  n_estimators=900, min_samples_split=10, min_samples_leaf=2, max_features=sqrt, max_depth=25, total=   1.2s\n",
            "[CV] n_estimators=900, min_samples_split=10, min_samples_leaf=2, max_features=sqrt, max_depth=25 \n",
            "[CV]  n_estimators=900, min_samples_split=10, min_samples_leaf=2, max_features=sqrt, max_depth=25, total=   1.1s\n",
            "[CV] n_estimators=1000, min_samples_split=15, min_samples_leaf=10, max_features=sqrt, max_depth=10 \n",
            "[CV]  n_estimators=1000, min_samples_split=15, min_samples_leaf=10, max_features=sqrt, max_depth=10, total=   1.2s\n",
            "[CV] n_estimators=1000, min_samples_split=15, min_samples_leaf=10, max_features=sqrt, max_depth=10 \n",
            "[CV]  n_estimators=1000, min_samples_split=15, min_samples_leaf=10, max_features=sqrt, max_depth=10, total=   1.2s\n",
            "[CV] n_estimators=1000, min_samples_split=15, min_samples_leaf=10, max_features=sqrt, max_depth=10 \n",
            "[CV]  n_estimators=1000, min_samples_split=15, min_samples_leaf=10, max_features=sqrt, max_depth=10, total=   1.2s\n",
            "[CV] n_estimators=1000, min_samples_split=15, min_samples_leaf=10, max_features=sqrt, max_depth=10 \n",
            "[CV]  n_estimators=1000, min_samples_split=15, min_samples_leaf=10, max_features=sqrt, max_depth=10, total=   1.3s\n",
            "[CV] n_estimators=1000, min_samples_split=15, min_samples_leaf=10, max_features=sqrt, max_depth=10 \n",
            "[CV]  n_estimators=1000, min_samples_split=15, min_samples_leaf=10, max_features=sqrt, max_depth=10, total=   1.2s\n",
            "[CV] n_estimators=100, min_samples_split=2, min_samples_leaf=5, max_features=sqrt, max_depth=20 \n",
            "[CV]  n_estimators=100, min_samples_split=2, min_samples_leaf=5, max_features=sqrt, max_depth=20, total=   0.1s\n",
            "[CV] n_estimators=100, min_samples_split=2, min_samples_leaf=5, max_features=sqrt, max_depth=20 \n",
            "[CV]  n_estimators=100, min_samples_split=2, min_samples_leaf=5, max_features=sqrt, max_depth=20, total=   0.1s\n",
            "[CV] n_estimators=100, min_samples_split=2, min_samples_leaf=5, max_features=sqrt, max_depth=20 \n",
            "[CV]  n_estimators=100, min_samples_split=2, min_samples_leaf=5, max_features=sqrt, max_depth=20, total=   0.1s\n",
            "[CV] n_estimators=100, min_samples_split=2, min_samples_leaf=5, max_features=sqrt, max_depth=20 \n",
            "[CV]  n_estimators=100, min_samples_split=2, min_samples_leaf=5, max_features=sqrt, max_depth=20, total=   0.1s\n",
            "[CV] n_estimators=100, min_samples_split=2, min_samples_leaf=5, max_features=sqrt, max_depth=20 \n",
            "[CV]  n_estimators=100, min_samples_split=2, min_samples_leaf=5, max_features=sqrt, max_depth=20, total=   0.1s\n",
            "[CV] n_estimators=300, min_samples_split=5, min_samples_leaf=5, max_features=sqrt, max_depth=30 \n",
            "[CV]  n_estimators=300, min_samples_split=5, min_samples_leaf=5, max_features=sqrt, max_depth=30, total=   0.4s\n",
            "[CV] n_estimators=300, min_samples_split=5, min_samples_leaf=5, max_features=sqrt, max_depth=30 \n",
            "[CV]  n_estimators=300, min_samples_split=5, min_samples_leaf=5, max_features=sqrt, max_depth=30, total=   0.4s\n",
            "[CV] n_estimators=300, min_samples_split=5, min_samples_leaf=5, max_features=sqrt, max_depth=30 \n",
            "[CV]  n_estimators=300, min_samples_split=5, min_samples_leaf=5, max_features=sqrt, max_depth=30, total=   0.4s\n",
            "[CV] n_estimators=300, min_samples_split=5, min_samples_leaf=5, max_features=sqrt, max_depth=30 \n",
            "[CV]  n_estimators=300, min_samples_split=5, min_samples_leaf=5, max_features=sqrt, max_depth=30, total=   0.4s\n",
            "[CV] n_estimators=300, min_samples_split=5, min_samples_leaf=5, max_features=sqrt, max_depth=30 \n",
            "[CV]  n_estimators=300, min_samples_split=5, min_samples_leaf=5, max_features=sqrt, max_depth=30, total=   0.4s\n",
            "[CV] n_estimators=400, min_samples_split=10, min_samples_leaf=2, max_features=sqrt, max_depth=30 \n",
            "[CV]  n_estimators=400, min_samples_split=10, min_samples_leaf=2, max_features=sqrt, max_depth=30, total=   0.5s\n",
            "[CV] n_estimators=400, min_samples_split=10, min_samples_leaf=2, max_features=sqrt, max_depth=30 \n",
            "[CV]  n_estimators=400, min_samples_split=10, min_samples_leaf=2, max_features=sqrt, max_depth=30, total=   0.5s\n",
            "[CV] n_estimators=400, min_samples_split=10, min_samples_leaf=2, max_features=sqrt, max_depth=30 \n",
            "[CV]  n_estimators=400, min_samples_split=10, min_samples_leaf=2, max_features=sqrt, max_depth=30, total=   0.5s\n",
            "[CV] n_estimators=400, min_samples_split=10, min_samples_leaf=2, max_features=sqrt, max_depth=30 \n",
            "[CV]  n_estimators=400, min_samples_split=10, min_samples_leaf=2, max_features=sqrt, max_depth=30, total=   0.5s\n",
            "[CV] n_estimators=400, min_samples_split=10, min_samples_leaf=2, max_features=sqrt, max_depth=30 \n",
            "[CV]  n_estimators=400, min_samples_split=10, min_samples_leaf=2, max_features=sqrt, max_depth=30, total=   0.5s\n",
            "[CV] n_estimators=900, min_samples_split=2, min_samples_leaf=5, max_features=sqrt, max_depth=5 \n",
            "[CV]  n_estimators=900, min_samples_split=2, min_samples_leaf=5, max_features=sqrt, max_depth=5, total=   1.1s\n",
            "[CV] n_estimators=900, min_samples_split=2, min_samples_leaf=5, max_features=sqrt, max_depth=5 \n",
            "[CV]  n_estimators=900, min_samples_split=2, min_samples_leaf=5, max_features=sqrt, max_depth=5, total=   1.1s\n",
            "[CV] n_estimators=900, min_samples_split=2, min_samples_leaf=5, max_features=sqrt, max_depth=5 \n",
            "[CV]  n_estimators=900, min_samples_split=2, min_samples_leaf=5, max_features=sqrt, max_depth=5, total=   1.1s\n",
            "[CV] n_estimators=900, min_samples_split=2, min_samples_leaf=5, max_features=sqrt, max_depth=5 \n",
            "[CV]  n_estimators=900, min_samples_split=2, min_samples_leaf=5, max_features=sqrt, max_depth=5, total=   1.1s\n",
            "[CV] n_estimators=900, min_samples_split=2, min_samples_leaf=5, max_features=sqrt, max_depth=5 \n",
            "[CV]  n_estimators=900, min_samples_split=2, min_samples_leaf=5, max_features=sqrt, max_depth=5, total=   1.1s\n",
            "[CV] n_estimators=900, min_samples_split=5, min_samples_leaf=2, max_features=sqrt, max_depth=20 \n",
            "[CV]  n_estimators=900, min_samples_split=5, min_samples_leaf=2, max_features=sqrt, max_depth=20, total=   1.3s\n",
            "[CV] n_estimators=900, min_samples_split=5, min_samples_leaf=2, max_features=sqrt, max_depth=20 \n",
            "[CV]  n_estimators=900, min_samples_split=5, min_samples_leaf=2, max_features=sqrt, max_depth=20, total=   1.2s\n",
            "[CV] n_estimators=900, min_samples_split=5, min_samples_leaf=2, max_features=sqrt, max_depth=20 \n",
            "[CV]  n_estimators=900, min_samples_split=5, min_samples_leaf=2, max_features=sqrt, max_depth=20, total=   1.1s\n",
            "[CV] n_estimators=900, min_samples_split=5, min_samples_leaf=2, max_features=sqrt, max_depth=20 \n",
            "[CV]  n_estimators=900, min_samples_split=5, min_samples_leaf=2, max_features=sqrt, max_depth=20, total=   1.2s\n",
            "[CV] n_estimators=900, min_samples_split=5, min_samples_leaf=2, max_features=sqrt, max_depth=20 \n",
            "[CV]  n_estimators=900, min_samples_split=5, min_samples_leaf=2, max_features=sqrt, max_depth=20, total=   1.2s\n",
            "[CV] n_estimators=200, min_samples_split=15, min_samples_leaf=2, max_features=sqrt, max_depth=10 \n",
            "[CV]  n_estimators=200, min_samples_split=15, min_samples_leaf=2, max_features=sqrt, max_depth=10, total=   0.3s\n",
            "[CV] n_estimators=200, min_samples_split=15, min_samples_leaf=2, max_features=sqrt, max_depth=10 \n",
            "[CV]  n_estimators=200, min_samples_split=15, min_samples_leaf=2, max_features=sqrt, max_depth=10, total=   0.3s\n",
            "[CV] n_estimators=200, min_samples_split=15, min_samples_leaf=2, max_features=sqrt, max_depth=10 \n",
            "[CV]  n_estimators=200, min_samples_split=15, min_samples_leaf=2, max_features=sqrt, max_depth=10, total=   0.2s\n",
            "[CV] n_estimators=200, min_samples_split=15, min_samples_leaf=2, max_features=sqrt, max_depth=10 \n",
            "[CV]  n_estimators=200, min_samples_split=15, min_samples_leaf=2, max_features=sqrt, max_depth=10, total=   0.3s\n",
            "[CV] n_estimators=200, min_samples_split=15, min_samples_leaf=2, max_features=sqrt, max_depth=10 \n",
            "[CV]  n_estimators=200, min_samples_split=15, min_samples_leaf=2, max_features=sqrt, max_depth=10, total=   0.3s\n",
            "[CV] n_estimators=200, min_samples_split=2, min_samples_leaf=2, max_features=sqrt, max_depth=10 \n",
            "[CV]  n_estimators=200, min_samples_split=2, min_samples_leaf=2, max_features=sqrt, max_depth=10, total=   0.3s\n",
            "[CV] n_estimators=200, min_samples_split=2, min_samples_leaf=2, max_features=sqrt, max_depth=10 \n",
            "[CV]  n_estimators=200, min_samples_split=2, min_samples_leaf=2, max_features=sqrt, max_depth=10, total=   0.3s\n",
            "[CV] n_estimators=200, min_samples_split=2, min_samples_leaf=2, max_features=sqrt, max_depth=10 \n",
            "[CV]  n_estimators=200, min_samples_split=2, min_samples_leaf=2, max_features=sqrt, max_depth=10, total=   0.3s\n",
            "[CV] n_estimators=200, min_samples_split=2, min_samples_leaf=2, max_features=sqrt, max_depth=10 \n",
            "[CV]  n_estimators=200, min_samples_split=2, min_samples_leaf=2, max_features=sqrt, max_depth=10, total=   0.3s\n",
            "[CV] n_estimators=200, min_samples_split=2, min_samples_leaf=2, max_features=sqrt, max_depth=10 \n",
            "[CV]  n_estimators=200, min_samples_split=2, min_samples_leaf=2, max_features=sqrt, max_depth=10, total=   0.3s\n",
            "[CV] n_estimators=700, min_samples_split=5, min_samples_leaf=1, max_features=auto, max_depth=10 \n",
            "[CV]  n_estimators=700, min_samples_split=5, min_samples_leaf=1, max_features=auto, max_depth=10, total=   1.0s\n",
            "[CV] n_estimators=700, min_samples_split=5, min_samples_leaf=1, max_features=auto, max_depth=10 \n",
            "[CV]  n_estimators=700, min_samples_split=5, min_samples_leaf=1, max_features=auto, max_depth=10, total=   1.0s\n",
            "[CV] n_estimators=700, min_samples_split=5, min_samples_leaf=1, max_features=auto, max_depth=10 \n",
            "[CV]  n_estimators=700, min_samples_split=5, min_samples_leaf=1, max_features=auto, max_depth=10, total=   1.0s\n",
            "[CV] n_estimators=700, min_samples_split=5, min_samples_leaf=1, max_features=auto, max_depth=10 \n",
            "[CV]  n_estimators=700, min_samples_split=5, min_samples_leaf=1, max_features=auto, max_depth=10, total=   1.0s\n",
            "[CV] n_estimators=700, min_samples_split=5, min_samples_leaf=1, max_features=auto, max_depth=10 \n",
            "[CV]  n_estimators=700, min_samples_split=5, min_samples_leaf=1, max_features=auto, max_depth=10, total=   1.0s\n",
            "[CV] n_estimators=1200, min_samples_split=100, min_samples_leaf=10, max_features=auto, max_depth=5 \n",
            "[CV]  n_estimators=1200, min_samples_split=100, min_samples_leaf=10, max_features=auto, max_depth=5, total=   1.4s\n",
            "[CV] n_estimators=1200, min_samples_split=100, min_samples_leaf=10, max_features=auto, max_depth=5 \n",
            "[CV]  n_estimators=1200, min_samples_split=100, min_samples_leaf=10, max_features=auto, max_depth=5, total=   1.5s\n",
            "[CV] n_estimators=1200, min_samples_split=100, min_samples_leaf=10, max_features=auto, max_depth=5 \n",
            "[CV]  n_estimators=1200, min_samples_split=100, min_samples_leaf=10, max_features=auto, max_depth=5, total=   1.5s\n",
            "[CV] n_estimators=1200, min_samples_split=100, min_samples_leaf=10, max_features=auto, max_depth=5 \n",
            "[CV]  n_estimators=1200, min_samples_split=100, min_samples_leaf=10, max_features=auto, max_depth=5, total=   1.5s\n",
            "[CV] n_estimators=1200, min_samples_split=100, min_samples_leaf=10, max_features=auto, max_depth=5 \n",
            "[CV]  n_estimators=1200, min_samples_split=100, min_samples_leaf=10, max_features=auto, max_depth=5, total=   1.5s\n",
            "[CV] n_estimators=800, min_samples_split=10, min_samples_leaf=2, max_features=sqrt, max_depth=5 \n",
            "[CV]  n_estimators=800, min_samples_split=10, min_samples_leaf=2, max_features=sqrt, max_depth=5, total=   1.0s\n",
            "[CV] n_estimators=800, min_samples_split=10, min_samples_leaf=2, max_features=sqrt, max_depth=5 \n",
            "[CV]  n_estimators=800, min_samples_split=10, min_samples_leaf=2, max_features=sqrt, max_depth=5, total=   1.0s\n",
            "[CV] n_estimators=800, min_samples_split=10, min_samples_leaf=2, max_features=sqrt, max_depth=5 \n",
            "[CV]  n_estimators=800, min_samples_split=10, min_samples_leaf=2, max_features=sqrt, max_depth=5, total=   1.0s\n",
            "[CV] n_estimators=800, min_samples_split=10, min_samples_leaf=2, max_features=sqrt, max_depth=5 \n",
            "[CV]  n_estimators=800, min_samples_split=10, min_samples_leaf=2, max_features=sqrt, max_depth=5, total=   1.0s\n",
            "[CV] n_estimators=800, min_samples_split=10, min_samples_leaf=2, max_features=sqrt, max_depth=5 \n",
            "[CV]  n_estimators=800, min_samples_split=10, min_samples_leaf=2, max_features=sqrt, max_depth=5, total=   1.0s\n",
            "[CV] n_estimators=1100, min_samples_split=100, min_samples_leaf=2, max_features=sqrt, max_depth=10 \n",
            "[CV]  n_estimators=1100, min_samples_split=100, min_samples_leaf=2, max_features=sqrt, max_depth=10, total=   1.3s\n",
            "[CV] n_estimators=1100, min_samples_split=100, min_samples_leaf=2, max_features=sqrt, max_depth=10 \n",
            "[CV]  n_estimators=1100, min_samples_split=100, min_samples_leaf=2, max_features=sqrt, max_depth=10, total=   1.3s\n",
            "[CV] n_estimators=1100, min_samples_split=100, min_samples_leaf=2, max_features=sqrt, max_depth=10 \n",
            "[CV]  n_estimators=1100, min_samples_split=100, min_samples_leaf=2, max_features=sqrt, max_depth=10, total=   1.3s\n",
            "[CV] n_estimators=1100, min_samples_split=100, min_samples_leaf=2, max_features=sqrt, max_depth=10 \n",
            "[CV]  n_estimators=1100, min_samples_split=100, min_samples_leaf=2, max_features=sqrt, max_depth=10, total=   1.3s\n",
            "[CV] n_estimators=1100, min_samples_split=100, min_samples_leaf=2, max_features=sqrt, max_depth=10 \n",
            "[CV]  n_estimators=1100, min_samples_split=100, min_samples_leaf=2, max_features=sqrt, max_depth=10, total=   1.3s\n",
            "[CV] n_estimators=500, min_samples_split=100, min_samples_leaf=10, max_features=sqrt, max_depth=10 \n",
            "[CV]  n_estimators=500, min_samples_split=100, min_samples_leaf=10, max_features=sqrt, max_depth=10, total=   0.6s\n",
            "[CV] n_estimators=500, min_samples_split=100, min_samples_leaf=10, max_features=sqrt, max_depth=10 \n",
            "[CV]  n_estimators=500, min_samples_split=100, min_samples_leaf=10, max_features=sqrt, max_depth=10, total=   0.6s\n",
            "[CV] n_estimators=500, min_samples_split=100, min_samples_leaf=10, max_features=sqrt, max_depth=10 \n",
            "[CV]  n_estimators=500, min_samples_split=100, min_samples_leaf=10, max_features=sqrt, max_depth=10, total=   0.6s\n",
            "[CV] n_estimators=500, min_samples_split=100, min_samples_leaf=10, max_features=sqrt, max_depth=10 \n",
            "[CV]  n_estimators=500, min_samples_split=100, min_samples_leaf=10, max_features=sqrt, max_depth=10, total=   0.6s\n",
            "[CV] n_estimators=500, min_samples_split=100, min_samples_leaf=10, max_features=sqrt, max_depth=10 \n",
            "[CV]  n_estimators=500, min_samples_split=100, min_samples_leaf=10, max_features=sqrt, max_depth=10, total=   0.6s\n",
            "[CV] n_estimators=1000, min_samples_split=5, min_samples_leaf=1, max_features=sqrt, max_depth=15 \n",
            "[CV]  n_estimators=1000, min_samples_split=5, min_samples_leaf=1, max_features=sqrt, max_depth=15, total=   1.3s\n",
            "[CV] n_estimators=1000, min_samples_split=5, min_samples_leaf=1, max_features=sqrt, max_depth=15 \n",
            "[CV]  n_estimators=1000, min_samples_split=5, min_samples_leaf=1, max_features=sqrt, max_depth=15, total=   1.3s\n",
            "[CV] n_estimators=1000, min_samples_split=5, min_samples_leaf=1, max_features=sqrt, max_depth=15 \n",
            "[CV]  n_estimators=1000, min_samples_split=5, min_samples_leaf=1, max_features=sqrt, max_depth=15, total=   1.3s\n",
            "[CV] n_estimators=1000, min_samples_split=5, min_samples_leaf=1, max_features=sqrt, max_depth=15 \n",
            "[CV]  n_estimators=1000, min_samples_split=5, min_samples_leaf=1, max_features=sqrt, max_depth=15, total=   1.3s\n",
            "[CV] n_estimators=1000, min_samples_split=5, min_samples_leaf=1, max_features=sqrt, max_depth=15 \n",
            "[CV]  n_estimators=1000, min_samples_split=5, min_samples_leaf=1, max_features=sqrt, max_depth=15, total=   1.3s\n",
            "[CV] n_estimators=1000, min_samples_split=2, min_samples_leaf=2, max_features=sqrt, max_depth=15 \n",
            "[CV]  n_estimators=1000, min_samples_split=2, min_samples_leaf=2, max_features=sqrt, max_depth=15, total=   1.3s\n",
            "[CV] n_estimators=1000, min_samples_split=2, min_samples_leaf=2, max_features=sqrt, max_depth=15 \n",
            "[CV]  n_estimators=1000, min_samples_split=2, min_samples_leaf=2, max_features=sqrt, max_depth=15, total=   1.3s\n",
            "[CV] n_estimators=1000, min_samples_split=2, min_samples_leaf=2, max_features=sqrt, max_depth=15 \n",
            "[CV]  n_estimators=1000, min_samples_split=2, min_samples_leaf=2, max_features=sqrt, max_depth=15, total=   1.3s\n",
            "[CV] n_estimators=1000, min_samples_split=2, min_samples_leaf=2, max_features=sqrt, max_depth=15 \n",
            "[CV]  n_estimators=1000, min_samples_split=2, min_samples_leaf=2, max_features=sqrt, max_depth=15, total=   1.3s\n",
            "[CV] n_estimators=1000, min_samples_split=2, min_samples_leaf=2, max_features=sqrt, max_depth=15 \n",
            "[CV]  n_estimators=1000, min_samples_split=2, min_samples_leaf=2, max_features=sqrt, max_depth=15, total=   1.3s\n",
            "[CV] n_estimators=1200, min_samples_split=10, min_samples_leaf=10, max_features=sqrt, max_depth=25 \n",
            "[CV]  n_estimators=1200, min_samples_split=10, min_samples_leaf=10, max_features=sqrt, max_depth=25, total=   1.5s\n",
            "[CV] n_estimators=1200, min_samples_split=10, min_samples_leaf=10, max_features=sqrt, max_depth=25 \n",
            "[CV]  n_estimators=1200, min_samples_split=10, min_samples_leaf=10, max_features=sqrt, max_depth=25, total=   1.5s\n",
            "[CV] n_estimators=1200, min_samples_split=10, min_samples_leaf=10, max_features=sqrt, max_depth=25 \n",
            "[CV]  n_estimators=1200, min_samples_split=10, min_samples_leaf=10, max_features=sqrt, max_depth=25, total=   1.5s\n",
            "[CV] n_estimators=1200, min_samples_split=10, min_samples_leaf=10, max_features=sqrt, max_depth=25 \n",
            "[CV]  n_estimators=1200, min_samples_split=10, min_samples_leaf=10, max_features=sqrt, max_depth=25, total=   1.5s\n",
            "[CV] n_estimators=1200, min_samples_split=10, min_samples_leaf=10, max_features=sqrt, max_depth=25 \n",
            "[CV]  n_estimators=1200, min_samples_split=10, min_samples_leaf=10, max_features=sqrt, max_depth=25, total=   1.5s\n",
            "[CV] n_estimators=300, min_samples_split=15, min_samples_leaf=2, max_features=sqrt, max_depth=20 \n",
            "[CV]  n_estimators=300, min_samples_split=15, min_samples_leaf=2, max_features=sqrt, max_depth=20, total=   0.4s\n",
            "[CV] n_estimators=300, min_samples_split=15, min_samples_leaf=2, max_features=sqrt, max_depth=20 \n",
            "[CV]  n_estimators=300, min_samples_split=15, min_samples_leaf=2, max_features=sqrt, max_depth=20, total=   0.4s\n",
            "[CV] n_estimators=300, min_samples_split=15, min_samples_leaf=2, max_features=sqrt, max_depth=20 \n",
            "[CV]  n_estimators=300, min_samples_split=15, min_samples_leaf=2, max_features=sqrt, max_depth=20, total=   0.4s\n",
            "[CV] n_estimators=300, min_samples_split=15, min_samples_leaf=2, max_features=sqrt, max_depth=20 \n",
            "[CV]  n_estimators=300, min_samples_split=15, min_samples_leaf=2, max_features=sqrt, max_depth=20, total=   0.4s\n",
            "[CV] n_estimators=300, min_samples_split=15, min_samples_leaf=2, max_features=sqrt, max_depth=20 \n",
            "[CV]  n_estimators=300, min_samples_split=15, min_samples_leaf=2, max_features=sqrt, max_depth=20, total=   0.4s\n",
            "[CV] n_estimators=600, min_samples_split=5, min_samples_leaf=2, max_features=auto, max_depth=20 \n",
            "[CV]  n_estimators=600, min_samples_split=5, min_samples_leaf=2, max_features=auto, max_depth=20, total=   0.8s\n",
            "[CV] n_estimators=600, min_samples_split=5, min_samples_leaf=2, max_features=auto, max_depth=20 \n",
            "[CV]  n_estimators=600, min_samples_split=5, min_samples_leaf=2, max_features=auto, max_depth=20, total=   0.9s\n",
            "[CV] n_estimators=600, min_samples_split=5, min_samples_leaf=2, max_features=auto, max_depth=20 \n",
            "[CV]  n_estimators=600, min_samples_split=5, min_samples_leaf=2, max_features=auto, max_depth=20, total=   0.8s\n",
            "[CV] n_estimators=600, min_samples_split=5, min_samples_leaf=2, max_features=auto, max_depth=20 \n",
            "[CV]  n_estimators=600, min_samples_split=5, min_samples_leaf=2, max_features=auto, max_depth=20, total=   0.8s\n",
            "[CV] n_estimators=600, min_samples_split=5, min_samples_leaf=2, max_features=auto, max_depth=20 \n",
            "[CV]  n_estimators=600, min_samples_split=5, min_samples_leaf=2, max_features=auto, max_depth=20, total=   0.9s\n",
            "[CV] n_estimators=1100, min_samples_split=5, min_samples_leaf=2, max_features=auto, max_depth=25 \n",
            "[CV]  n_estimators=1100, min_samples_split=5, min_samples_leaf=2, max_features=auto, max_depth=25, total=   1.6s\n",
            "[CV] n_estimators=1100, min_samples_split=5, min_samples_leaf=2, max_features=auto, max_depth=25 \n",
            "[CV]  n_estimators=1100, min_samples_split=5, min_samples_leaf=2, max_features=auto, max_depth=25, total=   1.7s\n",
            "[CV] n_estimators=1100, min_samples_split=5, min_samples_leaf=2, max_features=auto, max_depth=25 \n",
            "[CV]  n_estimators=1100, min_samples_split=5, min_samples_leaf=2, max_features=auto, max_depth=25, total=   1.5s\n",
            "[CV] n_estimators=1100, min_samples_split=5, min_samples_leaf=2, max_features=auto, max_depth=25 \n",
            "[CV]  n_estimators=1100, min_samples_split=5, min_samples_leaf=2, max_features=auto, max_depth=25, total=   1.6s\n",
            "[CV] n_estimators=1100, min_samples_split=5, min_samples_leaf=2, max_features=auto, max_depth=25 \n",
            "[CV]  n_estimators=1100, min_samples_split=5, min_samples_leaf=2, max_features=auto, max_depth=25, total=   1.6s\n",
            "[CV] n_estimators=300, min_samples_split=100, min_samples_leaf=1, max_features=auto, max_depth=15 \n",
            "[CV]  n_estimators=300, min_samples_split=100, min_samples_leaf=1, max_features=auto, max_depth=15, total=   0.4s\n",
            "[CV] n_estimators=300, min_samples_split=100, min_samples_leaf=1, max_features=auto, max_depth=15 \n",
            "[CV]  n_estimators=300, min_samples_split=100, min_samples_leaf=1, max_features=auto, max_depth=15, total=   0.4s\n",
            "[CV] n_estimators=300, min_samples_split=100, min_samples_leaf=1, max_features=auto, max_depth=15 \n",
            "[CV]  n_estimators=300, min_samples_split=100, min_samples_leaf=1, max_features=auto, max_depth=15, total=   0.4s\n",
            "[CV] n_estimators=300, min_samples_split=100, min_samples_leaf=1, max_features=auto, max_depth=15 \n",
            "[CV]  n_estimators=300, min_samples_split=100, min_samples_leaf=1, max_features=auto, max_depth=15, total=   0.4s\n",
            "[CV] n_estimators=300, min_samples_split=100, min_samples_leaf=1, max_features=auto, max_depth=15 \n",
            "[CV]  n_estimators=300, min_samples_split=100, min_samples_leaf=1, max_features=auto, max_depth=15, total=   0.4s\n",
            "[CV] n_estimators=100, min_samples_split=5, min_samples_leaf=2, max_features=sqrt, max_depth=20 \n",
            "[CV]  n_estimators=100, min_samples_split=5, min_samples_leaf=2, max_features=sqrt, max_depth=20, total=   0.1s\n",
            "[CV] n_estimators=100, min_samples_split=5, min_samples_leaf=2, max_features=sqrt, max_depth=20 \n",
            "[CV]  n_estimators=100, min_samples_split=5, min_samples_leaf=2, max_features=sqrt, max_depth=20, total=   0.1s\n",
            "[CV] n_estimators=100, min_samples_split=5, min_samples_leaf=2, max_features=sqrt, max_depth=20 \n",
            "[CV]  n_estimators=100, min_samples_split=5, min_samples_leaf=2, max_features=sqrt, max_depth=20, total=   0.1s\n",
            "[CV] n_estimators=100, min_samples_split=5, min_samples_leaf=2, max_features=sqrt, max_depth=20 \n",
            "[CV]  n_estimators=100, min_samples_split=5, min_samples_leaf=2, max_features=sqrt, max_depth=20, total=   0.1s\n",
            "[CV] n_estimators=100, min_samples_split=5, min_samples_leaf=2, max_features=sqrt, max_depth=20 \n",
            "[CV]  n_estimators=100, min_samples_split=5, min_samples_leaf=2, max_features=sqrt, max_depth=20, total=   0.1s\n",
            "[CV] n_estimators=700, min_samples_split=100, min_samples_leaf=10, max_features=sqrt, max_depth=20 \n",
            "[CV]  n_estimators=700, min_samples_split=100, min_samples_leaf=10, max_features=sqrt, max_depth=20, total=   0.9s\n",
            "[CV] n_estimators=700, min_samples_split=100, min_samples_leaf=10, max_features=sqrt, max_depth=20 \n",
            "[CV]  n_estimators=700, min_samples_split=100, min_samples_leaf=10, max_features=sqrt, max_depth=20, total=   0.9s\n",
            "[CV] n_estimators=700, min_samples_split=100, min_samples_leaf=10, max_features=sqrt, max_depth=20 \n",
            "[CV]  n_estimators=700, min_samples_split=100, min_samples_leaf=10, max_features=sqrt, max_depth=20, total=   0.9s\n",
            "[CV] n_estimators=700, min_samples_split=100, min_samples_leaf=10, max_features=sqrt, max_depth=20 \n",
            "[CV]  n_estimators=700, min_samples_split=100, min_samples_leaf=10, max_features=sqrt, max_depth=20, total=   0.9s\n",
            "[CV] n_estimators=700, min_samples_split=100, min_samples_leaf=10, max_features=sqrt, max_depth=20 \n",
            "[CV]  n_estimators=700, min_samples_split=100, min_samples_leaf=10, max_features=sqrt, max_depth=20, total=   0.9s\n",
            "[CV] n_estimators=200, min_samples_split=100, min_samples_leaf=10, max_features=sqrt, max_depth=15 \n",
            "[CV]  n_estimators=200, min_samples_split=100, min_samples_leaf=10, max_features=sqrt, max_depth=15, total=   0.2s\n",
            "[CV] n_estimators=200, min_samples_split=100, min_samples_leaf=10, max_features=sqrt, max_depth=15 \n",
            "[CV]  n_estimators=200, min_samples_split=100, min_samples_leaf=10, max_features=sqrt, max_depth=15, total=   0.2s\n",
            "[CV] n_estimators=200, min_samples_split=100, min_samples_leaf=10, max_features=sqrt, max_depth=15 \n",
            "[CV]  n_estimators=200, min_samples_split=100, min_samples_leaf=10, max_features=sqrt, max_depth=15, total=   0.2s\n",
            "[CV] n_estimators=200, min_samples_split=100, min_samples_leaf=10, max_features=sqrt, max_depth=15 \n",
            "[CV]  n_estimators=200, min_samples_split=100, min_samples_leaf=10, max_features=sqrt, max_depth=15, total=   0.3s\n",
            "[CV] n_estimators=200, min_samples_split=100, min_samples_leaf=10, max_features=sqrt, max_depth=15 \n",
            "[CV]  n_estimators=200, min_samples_split=100, min_samples_leaf=10, max_features=sqrt, max_depth=15, total=   0.3s\n",
            "[CV] n_estimators=500, min_samples_split=2, min_samples_leaf=5, max_features=auto, max_depth=20 \n",
            "[CV]  n_estimators=500, min_samples_split=2, min_samples_leaf=5, max_features=auto, max_depth=20, total=   0.7s\n",
            "[CV] n_estimators=500, min_samples_split=2, min_samples_leaf=5, max_features=auto, max_depth=20 \n",
            "[CV]  n_estimators=500, min_samples_split=2, min_samples_leaf=5, max_features=auto, max_depth=20, total=   0.7s\n",
            "[CV] n_estimators=500, min_samples_split=2, min_samples_leaf=5, max_features=auto, max_depth=20 \n",
            "[CV]  n_estimators=500, min_samples_split=2, min_samples_leaf=5, max_features=auto, max_depth=20, total=   0.7s\n",
            "[CV] n_estimators=500, min_samples_split=2, min_samples_leaf=5, max_features=auto, max_depth=20 \n",
            "[CV]  n_estimators=500, min_samples_split=2, min_samples_leaf=5, max_features=auto, max_depth=20, total=   0.7s\n",
            "[CV] n_estimators=500, min_samples_split=2, min_samples_leaf=5, max_features=auto, max_depth=20 \n",
            "[CV]  n_estimators=500, min_samples_split=2, min_samples_leaf=5, max_features=auto, max_depth=20, total=   0.7s\n",
            "[CV] n_estimators=900, min_samples_split=10, min_samples_leaf=10, max_features=sqrt, max_depth=25 \n",
            "[CV]  n_estimators=900, min_samples_split=10, min_samples_leaf=10, max_features=sqrt, max_depth=25, total=   1.2s\n",
            "[CV] n_estimators=900, min_samples_split=10, min_samples_leaf=10, max_features=sqrt, max_depth=25 \n",
            "[CV]  n_estimators=900, min_samples_split=10, min_samples_leaf=10, max_features=sqrt, max_depth=25, total=   1.1s\n",
            "[CV] n_estimators=900, min_samples_split=10, min_samples_leaf=10, max_features=sqrt, max_depth=25 \n",
            "[CV]  n_estimators=900, min_samples_split=10, min_samples_leaf=10, max_features=sqrt, max_depth=25, total=   1.1s\n",
            "[CV] n_estimators=900, min_samples_split=10, min_samples_leaf=10, max_features=sqrt, max_depth=25 \n",
            "[CV]  n_estimators=900, min_samples_split=10, min_samples_leaf=10, max_features=sqrt, max_depth=25, total=   1.1s\n",
            "[CV] n_estimators=900, min_samples_split=10, min_samples_leaf=10, max_features=sqrt, max_depth=25 \n",
            "[CV]  n_estimators=900, min_samples_split=10, min_samples_leaf=10, max_features=sqrt, max_depth=25, total=   1.1s\n",
            "[CV] n_estimators=1200, min_samples_split=15, min_samples_leaf=5, max_features=auto, max_depth=30 \n",
            "[CV]  n_estimators=1200, min_samples_split=15, min_samples_leaf=5, max_features=auto, max_depth=30, total=   1.6s\n",
            "[CV] n_estimators=1200, min_samples_split=15, min_samples_leaf=5, max_features=auto, max_depth=30 \n",
            "[CV]  n_estimators=1200, min_samples_split=15, min_samples_leaf=5, max_features=auto, max_depth=30, total=   1.6s\n",
            "[CV] n_estimators=1200, min_samples_split=15, min_samples_leaf=5, max_features=auto, max_depth=30 \n",
            "[CV]  n_estimators=1200, min_samples_split=15, min_samples_leaf=5, max_features=auto, max_depth=30, total=   1.6s\n",
            "[CV] n_estimators=1200, min_samples_split=15, min_samples_leaf=5, max_features=auto, max_depth=30 \n",
            "[CV]  n_estimators=1200, min_samples_split=15, min_samples_leaf=5, max_features=auto, max_depth=30, total=   1.6s\n",
            "[CV] n_estimators=1200, min_samples_split=15, min_samples_leaf=5, max_features=auto, max_depth=30 \n",
            "[CV]  n_estimators=1200, min_samples_split=15, min_samples_leaf=5, max_features=auto, max_depth=30, total=   1.6s\n",
            "[CV] n_estimators=900, min_samples_split=10, min_samples_leaf=1, max_features=auto, max_depth=25 \n",
            "[CV]  n_estimators=900, min_samples_split=10, min_samples_leaf=1, max_features=auto, max_depth=25, total=   1.2s\n",
            "[CV] n_estimators=900, min_samples_split=10, min_samples_leaf=1, max_features=auto, max_depth=25 \n",
            "[CV]  n_estimators=900, min_samples_split=10, min_samples_leaf=1, max_features=auto, max_depth=25, total=   1.2s\n",
            "[CV] n_estimators=900, min_samples_split=10, min_samples_leaf=1, max_features=auto, max_depth=25 \n",
            "[CV]  n_estimators=900, min_samples_split=10, min_samples_leaf=1, max_features=auto, max_depth=25, total=   1.2s\n",
            "[CV] n_estimators=900, min_samples_split=10, min_samples_leaf=1, max_features=auto, max_depth=25 \n",
            "[CV]  n_estimators=900, min_samples_split=10, min_samples_leaf=1, max_features=auto, max_depth=25, total=   1.2s\n",
            "[CV] n_estimators=900, min_samples_split=10, min_samples_leaf=1, max_features=auto, max_depth=25 \n",
            "[CV]  n_estimators=900, min_samples_split=10, min_samples_leaf=1, max_features=auto, max_depth=25, total=   1.2s\n",
            "[CV] n_estimators=600, min_samples_split=5, min_samples_leaf=5, max_features=sqrt, max_depth=10 \n",
            "[CV]  n_estimators=600, min_samples_split=5, min_samples_leaf=5, max_features=sqrt, max_depth=10, total=   0.8s\n",
            "[CV] n_estimators=600, min_samples_split=5, min_samples_leaf=5, max_features=sqrt, max_depth=10 \n",
            "[CV]  n_estimators=600, min_samples_split=5, min_samples_leaf=5, max_features=sqrt, max_depth=10, total=   0.7s\n",
            "[CV] n_estimators=600, min_samples_split=5, min_samples_leaf=5, max_features=sqrt, max_depth=10 \n",
            "[CV]  n_estimators=600, min_samples_split=5, min_samples_leaf=5, max_features=sqrt, max_depth=10, total=   0.7s\n",
            "[CV] n_estimators=600, min_samples_split=5, min_samples_leaf=5, max_features=sqrt, max_depth=10 \n",
            "[CV]  n_estimators=600, min_samples_split=5, min_samples_leaf=5, max_features=sqrt, max_depth=10, total=   0.7s\n",
            "[CV] n_estimators=600, min_samples_split=5, min_samples_leaf=5, max_features=sqrt, max_depth=10 \n",
            "[CV]  n_estimators=600, min_samples_split=5, min_samples_leaf=5, max_features=sqrt, max_depth=10, total=   0.7s\n",
            "[CV] n_estimators=800, min_samples_split=5, min_samples_leaf=5, max_features=sqrt, max_depth=25 \n",
            "[CV]  n_estimators=800, min_samples_split=5, min_samples_leaf=5, max_features=sqrt, max_depth=25, total=   1.0s\n",
            "[CV] n_estimators=800, min_samples_split=5, min_samples_leaf=5, max_features=sqrt, max_depth=25 \n",
            "[CV]  n_estimators=800, min_samples_split=5, min_samples_leaf=5, max_features=sqrt, max_depth=25, total=   1.0s\n",
            "[CV] n_estimators=800, min_samples_split=5, min_samples_leaf=5, max_features=sqrt, max_depth=25 \n",
            "[CV]  n_estimators=800, min_samples_split=5, min_samples_leaf=5, max_features=sqrt, max_depth=25, total=   1.0s\n",
            "[CV] n_estimators=800, min_samples_split=5, min_samples_leaf=5, max_features=sqrt, max_depth=25 \n",
            "[CV]  n_estimators=800, min_samples_split=5, min_samples_leaf=5, max_features=sqrt, max_depth=25, total=   1.0s\n",
            "[CV] n_estimators=800, min_samples_split=5, min_samples_leaf=5, max_features=sqrt, max_depth=25 \n",
            "[CV]  n_estimators=800, min_samples_split=5, min_samples_leaf=5, max_features=sqrt, max_depth=25, total=   1.0s\n",
            "[CV] n_estimators=500, min_samples_split=2, min_samples_leaf=5, max_features=auto, max_depth=5 \n",
            "[CV]  n_estimators=500, min_samples_split=2, min_samples_leaf=5, max_features=auto, max_depth=5, total=   0.7s\n",
            "[CV] n_estimators=500, min_samples_split=2, min_samples_leaf=5, max_features=auto, max_depth=5 \n",
            "[CV]  n_estimators=500, min_samples_split=2, min_samples_leaf=5, max_features=auto, max_depth=5, total=   0.7s\n",
            "[CV] n_estimators=500, min_samples_split=2, min_samples_leaf=5, max_features=auto, max_depth=5 \n",
            "[CV]  n_estimators=500, min_samples_split=2, min_samples_leaf=5, max_features=auto, max_depth=5, total=   0.7s\n",
            "[CV] n_estimators=500, min_samples_split=2, min_samples_leaf=5, max_features=auto, max_depth=5 \n",
            "[CV]  n_estimators=500, min_samples_split=2, min_samples_leaf=5, max_features=auto, max_depth=5, total=   0.7s\n",
            "[CV] n_estimators=500, min_samples_split=2, min_samples_leaf=5, max_features=auto, max_depth=5 \n",
            "[CV]  n_estimators=500, min_samples_split=2, min_samples_leaf=5, max_features=auto, max_depth=5, total=   0.7s\n",
            "[CV] n_estimators=800, min_samples_split=100, min_samples_leaf=2, max_features=sqrt, max_depth=25 \n",
            "[CV]  n_estimators=800, min_samples_split=100, min_samples_leaf=2, max_features=sqrt, max_depth=25, total=   1.0s\n",
            "[CV] n_estimators=800, min_samples_split=100, min_samples_leaf=2, max_features=sqrt, max_depth=25 \n",
            "[CV]  n_estimators=800, min_samples_split=100, min_samples_leaf=2, max_features=sqrt, max_depth=25, total=   1.0s\n",
            "[CV] n_estimators=800, min_samples_split=100, min_samples_leaf=2, max_features=sqrt, max_depth=25 \n",
            "[CV]  n_estimators=800, min_samples_split=100, min_samples_leaf=2, max_features=sqrt, max_depth=25, total=   1.0s\n",
            "[CV] n_estimators=800, min_samples_split=100, min_samples_leaf=2, max_features=sqrt, max_depth=25 \n",
            "[CV]  n_estimators=800, min_samples_split=100, min_samples_leaf=2, max_features=sqrt, max_depth=25, total=   1.0s\n",
            "[CV] n_estimators=800, min_samples_split=100, min_samples_leaf=2, max_features=sqrt, max_depth=25 \n",
            "[CV]  n_estimators=800, min_samples_split=100, min_samples_leaf=2, max_features=sqrt, max_depth=25, total=   0.9s\n",
            "[CV] n_estimators=1200, min_samples_split=2, min_samples_leaf=5, max_features=sqrt, max_depth=30 \n",
            "[CV]  n_estimators=1200, min_samples_split=2, min_samples_leaf=5, max_features=sqrt, max_depth=30, total=   1.5s\n",
            "[CV] n_estimators=1200, min_samples_split=2, min_samples_leaf=5, max_features=sqrt, max_depth=30 \n",
            "[CV]  n_estimators=1200, min_samples_split=2, min_samples_leaf=5, max_features=sqrt, max_depth=30, total=   1.5s\n",
            "[CV] n_estimators=1200, min_samples_split=2, min_samples_leaf=5, max_features=sqrt, max_depth=30 \n",
            "[CV]  n_estimators=1200, min_samples_split=2, min_samples_leaf=5, max_features=sqrt, max_depth=30, total=   1.5s\n",
            "[CV] n_estimators=1200, min_samples_split=2, min_samples_leaf=5, max_features=sqrt, max_depth=30 \n",
            "[CV]  n_estimators=1200, min_samples_split=2, min_samples_leaf=5, max_features=sqrt, max_depth=30, total=   1.5s\n",
            "[CV] n_estimators=1200, min_samples_split=2, min_samples_leaf=5, max_features=sqrt, max_depth=30 \n",
            "[CV]  n_estimators=1200, min_samples_split=2, min_samples_leaf=5, max_features=sqrt, max_depth=30, total=   1.5s\n",
            "[CV] n_estimators=600, min_samples_split=10, min_samples_leaf=1, max_features=sqrt, max_depth=30 \n",
            "[CV]  n_estimators=600, min_samples_split=10, min_samples_leaf=1, max_features=sqrt, max_depth=30, total=   0.8s\n",
            "[CV] n_estimators=600, min_samples_split=10, min_samples_leaf=1, max_features=sqrt, max_depth=30 \n",
            "[CV]  n_estimators=600, min_samples_split=10, min_samples_leaf=1, max_features=sqrt, max_depth=30, total=   0.8s\n",
            "[CV] n_estimators=600, min_samples_split=10, min_samples_leaf=1, max_features=sqrt, max_depth=30 \n",
            "[CV]  n_estimators=600, min_samples_split=10, min_samples_leaf=1, max_features=sqrt, max_depth=30, total=   0.8s\n",
            "[CV] n_estimators=600, min_samples_split=10, min_samples_leaf=1, max_features=sqrt, max_depth=30 \n",
            "[CV]  n_estimators=600, min_samples_split=10, min_samples_leaf=1, max_features=sqrt, max_depth=30, total=   0.8s\n",
            "[CV] n_estimators=600, min_samples_split=10, min_samples_leaf=1, max_features=sqrt, max_depth=30 \n",
            "[CV]  n_estimators=600, min_samples_split=10, min_samples_leaf=1, max_features=sqrt, max_depth=30, total=   0.8s\n",
            "[CV] n_estimators=900, min_samples_split=10, min_samples_leaf=1, max_features=auto, max_depth=20 \n",
            "[CV]  n_estimators=900, min_samples_split=10, min_samples_leaf=1, max_features=auto, max_depth=20, total=   1.2s\n",
            "[CV] n_estimators=900, min_samples_split=10, min_samples_leaf=1, max_features=auto, max_depth=20 \n",
            "[CV]  n_estimators=900, min_samples_split=10, min_samples_leaf=1, max_features=auto, max_depth=20, total=   1.2s\n",
            "[CV] n_estimators=900, min_samples_split=10, min_samples_leaf=1, max_features=auto, max_depth=20 \n",
            "[CV]  n_estimators=900, min_samples_split=10, min_samples_leaf=1, max_features=auto, max_depth=20, total=   1.2s\n",
            "[CV] n_estimators=900, min_samples_split=10, min_samples_leaf=1, max_features=auto, max_depth=20 \n",
            "[CV]  n_estimators=900, min_samples_split=10, min_samples_leaf=1, max_features=auto, max_depth=20, total=   1.4s\n",
            "[CV] n_estimators=900, min_samples_split=10, min_samples_leaf=1, max_features=auto, max_depth=20 \n",
            "[CV]  n_estimators=900, min_samples_split=10, min_samples_leaf=1, max_features=auto, max_depth=20, total=   1.2s\n",
            "[CV] n_estimators=200, min_samples_split=2, min_samples_leaf=5, max_features=sqrt, max_depth=15 \n",
            "[CV]  n_estimators=200, min_samples_split=2, min_samples_leaf=5, max_features=sqrt, max_depth=15, total=   0.3s\n",
            "[CV] n_estimators=200, min_samples_split=2, min_samples_leaf=5, max_features=sqrt, max_depth=15 \n",
            "[CV]  n_estimators=200, min_samples_split=2, min_samples_leaf=5, max_features=sqrt, max_depth=15, total=   0.3s\n",
            "[CV] n_estimators=200, min_samples_split=2, min_samples_leaf=5, max_features=sqrt, max_depth=15 \n",
            "[CV]  n_estimators=200, min_samples_split=2, min_samples_leaf=5, max_features=sqrt, max_depth=15, total=   0.3s\n",
            "[CV] n_estimators=200, min_samples_split=2, min_samples_leaf=5, max_features=sqrt, max_depth=15 \n",
            "[CV]  n_estimators=200, min_samples_split=2, min_samples_leaf=5, max_features=sqrt, max_depth=15, total=   0.3s\n",
            "[CV] n_estimators=200, min_samples_split=2, min_samples_leaf=5, max_features=sqrt, max_depth=15 \n",
            "[CV]  n_estimators=200, min_samples_split=2, min_samples_leaf=5, max_features=sqrt, max_depth=15, total=   0.3s\n",
            "[CV] n_estimators=700, min_samples_split=10, min_samples_leaf=10, max_features=sqrt, max_depth=25 \n",
            "[CV]  n_estimators=700, min_samples_split=10, min_samples_leaf=10, max_features=sqrt, max_depth=25, total=   0.9s\n",
            "[CV] n_estimators=700, min_samples_split=10, min_samples_leaf=10, max_features=sqrt, max_depth=25 \n",
            "[CV]  n_estimators=700, min_samples_split=10, min_samples_leaf=10, max_features=sqrt, max_depth=25, total=   0.8s\n",
            "[CV] n_estimators=700, min_samples_split=10, min_samples_leaf=10, max_features=sqrt, max_depth=25 \n",
            "[CV]  n_estimators=700, min_samples_split=10, min_samples_leaf=10, max_features=sqrt, max_depth=25, total=   0.9s\n",
            "[CV] n_estimators=700, min_samples_split=10, min_samples_leaf=10, max_features=sqrt, max_depth=25 \n",
            "[CV]  n_estimators=700, min_samples_split=10, min_samples_leaf=10, max_features=sqrt, max_depth=25, total=   0.9s\n",
            "[CV] n_estimators=700, min_samples_split=10, min_samples_leaf=10, max_features=sqrt, max_depth=25 \n",
            "[CV]  n_estimators=700, min_samples_split=10, min_samples_leaf=10, max_features=sqrt, max_depth=25, total=   0.9s\n",
            "[CV] n_estimators=200, min_samples_split=10, min_samples_leaf=10, max_features=sqrt, max_depth=15 \n",
            "[CV]  n_estimators=200, min_samples_split=10, min_samples_leaf=10, max_features=sqrt, max_depth=15, total=   0.2s\n",
            "[CV] n_estimators=200, min_samples_split=10, min_samples_leaf=10, max_features=sqrt, max_depth=15 \n",
            "[CV]  n_estimators=200, min_samples_split=10, min_samples_leaf=10, max_features=sqrt, max_depth=15, total=   0.3s\n",
            "[CV] n_estimators=200, min_samples_split=10, min_samples_leaf=10, max_features=sqrt, max_depth=15 \n",
            "[CV]  n_estimators=200, min_samples_split=10, min_samples_leaf=10, max_features=sqrt, max_depth=15, total=   0.3s\n",
            "[CV] n_estimators=200, min_samples_split=10, min_samples_leaf=10, max_features=sqrt, max_depth=15 \n",
            "[CV]  n_estimators=200, min_samples_split=10, min_samples_leaf=10, max_features=sqrt, max_depth=15, total=   0.2s\n",
            "[CV] n_estimators=200, min_samples_split=10, min_samples_leaf=10, max_features=sqrt, max_depth=15 \n",
            "[CV]  n_estimators=200, min_samples_split=10, min_samples_leaf=10, max_features=sqrt, max_depth=15, total=   0.3s\n",
            "[CV] n_estimators=200, min_samples_split=100, min_samples_leaf=2, max_features=auto, max_depth=25 \n",
            "[CV]  n_estimators=200, min_samples_split=100, min_samples_leaf=2, max_features=auto, max_depth=25, total=   0.3s\n",
            "[CV] n_estimators=200, min_samples_split=100, min_samples_leaf=2, max_features=auto, max_depth=25 \n",
            "[CV]  n_estimators=200, min_samples_split=100, min_samples_leaf=2, max_features=auto, max_depth=25, total=   0.3s\n",
            "[CV] n_estimators=200, min_samples_split=100, min_samples_leaf=2, max_features=auto, max_depth=25 \n",
            "[CV]  n_estimators=200, min_samples_split=100, min_samples_leaf=2, max_features=auto, max_depth=25, total=   0.3s\n",
            "[CV] n_estimators=200, min_samples_split=100, min_samples_leaf=2, max_features=auto, max_depth=25 \n",
            "[CV]  n_estimators=200, min_samples_split=100, min_samples_leaf=2, max_features=auto, max_depth=25, total=   0.3s\n",
            "[CV] n_estimators=200, min_samples_split=100, min_samples_leaf=2, max_features=auto, max_depth=25 \n",
            "[CV]  n_estimators=200, min_samples_split=100, min_samples_leaf=2, max_features=auto, max_depth=25, total=   0.3s\n",
            "[CV] n_estimators=400, min_samples_split=2, min_samples_leaf=5, max_features=sqrt, max_depth=20 \n",
            "[CV]  n_estimators=400, min_samples_split=2, min_samples_leaf=5, max_features=sqrt, max_depth=20, total=   0.5s\n",
            "[CV] n_estimators=400, min_samples_split=2, min_samples_leaf=5, max_features=sqrt, max_depth=20 \n",
            "[CV]  n_estimators=400, min_samples_split=2, min_samples_leaf=5, max_features=sqrt, max_depth=20, total=   0.5s\n",
            "[CV] n_estimators=400, min_samples_split=2, min_samples_leaf=5, max_features=sqrt, max_depth=20 \n",
            "[CV]  n_estimators=400, min_samples_split=2, min_samples_leaf=5, max_features=sqrt, max_depth=20, total=   0.5s\n",
            "[CV] n_estimators=400, min_samples_split=2, min_samples_leaf=5, max_features=sqrt, max_depth=20 \n",
            "[CV]  n_estimators=400, min_samples_split=2, min_samples_leaf=5, max_features=sqrt, max_depth=20, total=   0.5s\n",
            "[CV] n_estimators=400, min_samples_split=2, min_samples_leaf=5, max_features=sqrt, max_depth=20 \n",
            "[CV]  n_estimators=400, min_samples_split=2, min_samples_leaf=5, max_features=sqrt, max_depth=20, total=   0.5s\n",
            "[CV] n_estimators=900, min_samples_split=100, min_samples_leaf=1, max_features=sqrt, max_depth=5 \n",
            "[CV]  n_estimators=900, min_samples_split=100, min_samples_leaf=1, max_features=sqrt, max_depth=5, total=   1.1s\n",
            "[CV] n_estimators=900, min_samples_split=100, min_samples_leaf=1, max_features=sqrt, max_depth=5 \n",
            "[CV]  n_estimators=900, min_samples_split=100, min_samples_leaf=1, max_features=sqrt, max_depth=5, total=   1.1s\n",
            "[CV] n_estimators=900, min_samples_split=100, min_samples_leaf=1, max_features=sqrt, max_depth=5 \n",
            "[CV]  n_estimators=900, min_samples_split=100, min_samples_leaf=1, max_features=sqrt, max_depth=5, total=   1.1s\n",
            "[CV] n_estimators=900, min_samples_split=100, min_samples_leaf=1, max_features=sqrt, max_depth=5 \n",
            "[CV]  n_estimators=900, min_samples_split=100, min_samples_leaf=1, max_features=sqrt, max_depth=5, total=   1.1s\n",
            "[CV] n_estimators=900, min_samples_split=100, min_samples_leaf=1, max_features=sqrt, max_depth=5 \n",
            "[CV]  n_estimators=900, min_samples_split=100, min_samples_leaf=1, max_features=sqrt, max_depth=5, total=   1.1s\n",
            "[CV] n_estimators=900, min_samples_split=100, min_samples_leaf=1, max_features=sqrt, max_depth=30 \n",
            "[CV]  n_estimators=900, min_samples_split=100, min_samples_leaf=1, max_features=sqrt, max_depth=30, total=   1.1s\n",
            "[CV] n_estimators=900, min_samples_split=100, min_samples_leaf=1, max_features=sqrt, max_depth=30 \n",
            "[CV]  n_estimators=900, min_samples_split=100, min_samples_leaf=1, max_features=sqrt, max_depth=30, total=   1.1s\n",
            "[CV] n_estimators=900, min_samples_split=100, min_samples_leaf=1, max_features=sqrt, max_depth=30 \n",
            "[CV]  n_estimators=900, min_samples_split=100, min_samples_leaf=1, max_features=sqrt, max_depth=30, total=   1.1s\n",
            "[CV] n_estimators=900, min_samples_split=100, min_samples_leaf=1, max_features=sqrt, max_depth=30 \n",
            "[CV]  n_estimators=900, min_samples_split=100, min_samples_leaf=1, max_features=sqrt, max_depth=30, total=   1.1s\n",
            "[CV] n_estimators=900, min_samples_split=100, min_samples_leaf=1, max_features=sqrt, max_depth=30 \n",
            "[CV]  n_estimators=900, min_samples_split=100, min_samples_leaf=1, max_features=sqrt, max_depth=30, total=   1.1s\n",
            "[CV] n_estimators=200, min_samples_split=5, min_samples_leaf=1, max_features=sqrt, max_depth=15 \n",
            "[CV]  n_estimators=200, min_samples_split=5, min_samples_leaf=1, max_features=sqrt, max_depth=15, total=   0.3s\n",
            "[CV] n_estimators=200, min_samples_split=5, min_samples_leaf=1, max_features=sqrt, max_depth=15 \n",
            "[CV]  n_estimators=200, min_samples_split=5, min_samples_leaf=1, max_features=sqrt, max_depth=15, total=   0.3s\n",
            "[CV] n_estimators=200, min_samples_split=5, min_samples_leaf=1, max_features=sqrt, max_depth=15 \n",
            "[CV]  n_estimators=200, min_samples_split=5, min_samples_leaf=1, max_features=sqrt, max_depth=15, total=   0.3s\n",
            "[CV] n_estimators=200, min_samples_split=5, min_samples_leaf=1, max_features=sqrt, max_depth=15 \n",
            "[CV]  n_estimators=200, min_samples_split=5, min_samples_leaf=1, max_features=sqrt, max_depth=15, total=   0.3s\n",
            "[CV] n_estimators=200, min_samples_split=5, min_samples_leaf=1, max_features=sqrt, max_depth=15 \n",
            "[CV]  n_estimators=200, min_samples_split=5, min_samples_leaf=1, max_features=sqrt, max_depth=15, total=   0.3s\n",
            "[CV] n_estimators=300, min_samples_split=100, min_samples_leaf=5, max_features=sqrt, max_depth=20 \n",
            "[CV]  n_estimators=300, min_samples_split=100, min_samples_leaf=5, max_features=sqrt, max_depth=20, total=   0.4s\n",
            "[CV] n_estimators=300, min_samples_split=100, min_samples_leaf=5, max_features=sqrt, max_depth=20 \n",
            "[CV]  n_estimators=300, min_samples_split=100, min_samples_leaf=5, max_features=sqrt, max_depth=20, total=   0.4s\n",
            "[CV] n_estimators=300, min_samples_split=100, min_samples_leaf=5, max_features=sqrt, max_depth=20 \n",
            "[CV]  n_estimators=300, min_samples_split=100, min_samples_leaf=5, max_features=sqrt, max_depth=20, total=   0.4s\n",
            "[CV] n_estimators=300, min_samples_split=100, min_samples_leaf=5, max_features=sqrt, max_depth=20 \n",
            "[CV]  n_estimators=300, min_samples_split=100, min_samples_leaf=5, max_features=sqrt, max_depth=20, total=   0.4s\n",
            "[CV] n_estimators=300, min_samples_split=100, min_samples_leaf=5, max_features=sqrt, max_depth=20 \n",
            "[CV]  n_estimators=300, min_samples_split=100, min_samples_leaf=5, max_features=sqrt, max_depth=20, total=   0.4s\n",
            "[CV] n_estimators=400, min_samples_split=10, min_samples_leaf=1, max_features=sqrt, max_depth=30 \n",
            "[CV]  n_estimators=400, min_samples_split=10, min_samples_leaf=1, max_features=sqrt, max_depth=30, total=   0.5s\n",
            "[CV] n_estimators=400, min_samples_split=10, min_samples_leaf=1, max_features=sqrt, max_depth=30 \n",
            "[CV]  n_estimators=400, min_samples_split=10, min_samples_leaf=1, max_features=sqrt, max_depth=30, total=   0.5s\n",
            "[CV] n_estimators=400, min_samples_split=10, min_samples_leaf=1, max_features=sqrt, max_depth=30 \n",
            "[CV]  n_estimators=400, min_samples_split=10, min_samples_leaf=1, max_features=sqrt, max_depth=30, total=   0.5s\n",
            "[CV] n_estimators=400, min_samples_split=10, min_samples_leaf=1, max_features=sqrt, max_depth=30 \n",
            "[CV]  n_estimators=400, min_samples_split=10, min_samples_leaf=1, max_features=sqrt, max_depth=30, total=   0.5s\n",
            "[CV] n_estimators=400, min_samples_split=10, min_samples_leaf=1, max_features=sqrt, max_depth=30 \n",
            "[CV]  n_estimators=400, min_samples_split=10, min_samples_leaf=1, max_features=sqrt, max_depth=30, total=   0.5s\n",
            "[CV] n_estimators=300, min_samples_split=10, min_samples_leaf=5, max_features=auto, max_depth=20 \n",
            "[CV]  n_estimators=300, min_samples_split=10, min_samples_leaf=5, max_features=auto, max_depth=20, total=   0.4s\n",
            "[CV] n_estimators=300, min_samples_split=10, min_samples_leaf=5, max_features=auto, max_depth=20 \n",
            "[CV]  n_estimators=300, min_samples_split=10, min_samples_leaf=5, max_features=auto, max_depth=20, total=   0.4s\n",
            "[CV] n_estimators=300, min_samples_split=10, min_samples_leaf=5, max_features=auto, max_depth=20 \n",
            "[CV]  n_estimators=300, min_samples_split=10, min_samples_leaf=5, max_features=auto, max_depth=20, total=   0.4s\n",
            "[CV] n_estimators=300, min_samples_split=10, min_samples_leaf=5, max_features=auto, max_depth=20 \n",
            "[CV]  n_estimators=300, min_samples_split=10, min_samples_leaf=5, max_features=auto, max_depth=20, total=   0.4s\n",
            "[CV] n_estimators=300, min_samples_split=10, min_samples_leaf=5, max_features=auto, max_depth=20 \n",
            "[CV]  n_estimators=300, min_samples_split=10, min_samples_leaf=5, max_features=auto, max_depth=20, total=   0.4s\n",
            "[CV] n_estimators=200, min_samples_split=5, min_samples_leaf=2, max_features=sqrt, max_depth=30 \n",
            "[CV]  n_estimators=200, min_samples_split=5, min_samples_leaf=2, max_features=sqrt, max_depth=30, total=   0.3s\n",
            "[CV] n_estimators=200, min_samples_split=5, min_samples_leaf=2, max_features=sqrt, max_depth=30 \n",
            "[CV]  n_estimators=200, min_samples_split=5, min_samples_leaf=2, max_features=sqrt, max_depth=30, total=   0.3s\n",
            "[CV] n_estimators=200, min_samples_split=5, min_samples_leaf=2, max_features=sqrt, max_depth=30 \n",
            "[CV]  n_estimators=200, min_samples_split=5, min_samples_leaf=2, max_features=sqrt, max_depth=30, total=   0.3s\n",
            "[CV] n_estimators=200, min_samples_split=5, min_samples_leaf=2, max_features=sqrt, max_depth=30 \n",
            "[CV]  n_estimators=200, min_samples_split=5, min_samples_leaf=2, max_features=sqrt, max_depth=30, total=   0.3s\n",
            "[CV] n_estimators=200, min_samples_split=5, min_samples_leaf=2, max_features=sqrt, max_depth=30 \n",
            "[CV]  n_estimators=200, min_samples_split=5, min_samples_leaf=2, max_features=sqrt, max_depth=30, total=   0.3s\n",
            "[CV] n_estimators=400, min_samples_split=10, min_samples_leaf=5, max_features=sqrt, max_depth=30 \n",
            "[CV]  n_estimators=400, min_samples_split=10, min_samples_leaf=5, max_features=sqrt, max_depth=30, total=   0.5s\n",
            "[CV] n_estimators=400, min_samples_split=10, min_samples_leaf=5, max_features=sqrt, max_depth=30 \n",
            "[CV]  n_estimators=400, min_samples_split=10, min_samples_leaf=5, max_features=sqrt, max_depth=30, total=   0.5s\n",
            "[CV] n_estimators=400, min_samples_split=10, min_samples_leaf=5, max_features=sqrt, max_depth=30 \n",
            "[CV]  n_estimators=400, min_samples_split=10, min_samples_leaf=5, max_features=sqrt, max_depth=30, total=   0.5s\n",
            "[CV] n_estimators=400, min_samples_split=10, min_samples_leaf=5, max_features=sqrt, max_depth=30 \n",
            "[CV]  n_estimators=400, min_samples_split=10, min_samples_leaf=5, max_features=sqrt, max_depth=30, total=   0.5s\n",
            "[CV] n_estimators=400, min_samples_split=10, min_samples_leaf=5, max_features=sqrt, max_depth=30 \n",
            "[CV]  n_estimators=400, min_samples_split=10, min_samples_leaf=5, max_features=sqrt, max_depth=30, total=   0.5s\n",
            "[CV] n_estimators=1200, min_samples_split=2, min_samples_leaf=10, max_features=sqrt, max_depth=10 \n",
            "[CV]  n_estimators=1200, min_samples_split=2, min_samples_leaf=10, max_features=sqrt, max_depth=10, total=   1.5s\n",
            "[CV] n_estimators=1200, min_samples_split=2, min_samples_leaf=10, max_features=sqrt, max_depth=10 \n",
            "[CV]  n_estimators=1200, min_samples_split=2, min_samples_leaf=10, max_features=sqrt, max_depth=10, total=   1.5s\n",
            "[CV] n_estimators=1200, min_samples_split=2, min_samples_leaf=10, max_features=sqrt, max_depth=10 \n",
            "[CV]  n_estimators=1200, min_samples_split=2, min_samples_leaf=10, max_features=sqrt, max_depth=10, total=   1.5s\n",
            "[CV] n_estimators=1200, min_samples_split=2, min_samples_leaf=10, max_features=sqrt, max_depth=10 \n",
            "[CV]  n_estimators=1200, min_samples_split=2, min_samples_leaf=10, max_features=sqrt, max_depth=10, total=   1.5s\n",
            "[CV] n_estimators=1200, min_samples_split=2, min_samples_leaf=10, max_features=sqrt, max_depth=10 \n",
            "[CV]  n_estimators=1200, min_samples_split=2, min_samples_leaf=10, max_features=sqrt, max_depth=10, total=   1.5s\n",
            "[CV] n_estimators=100, min_samples_split=10, min_samples_leaf=2, max_features=auto, max_depth=10 \n",
            "[CV]  n_estimators=100, min_samples_split=10, min_samples_leaf=2, max_features=auto, max_depth=10, total=   0.1s\n",
            "[CV] n_estimators=100, min_samples_split=10, min_samples_leaf=2, max_features=auto, max_depth=10 \n",
            "[CV]  n_estimators=100, min_samples_split=10, min_samples_leaf=2, max_features=auto, max_depth=10, total=   0.1s\n",
            "[CV] n_estimators=100, min_samples_split=10, min_samples_leaf=2, max_features=auto, max_depth=10 \n",
            "[CV]  n_estimators=100, min_samples_split=10, min_samples_leaf=2, max_features=auto, max_depth=10, total=   0.1s\n",
            "[CV] n_estimators=100, min_samples_split=10, min_samples_leaf=2, max_features=auto, max_depth=10 \n",
            "[CV]  n_estimators=100, min_samples_split=10, min_samples_leaf=2, max_features=auto, max_depth=10, total=   0.1s\n",
            "[CV] n_estimators=100, min_samples_split=10, min_samples_leaf=2, max_features=auto, max_depth=10 \n",
            "[CV]  n_estimators=100, min_samples_split=10, min_samples_leaf=2, max_features=auto, max_depth=10, total=   0.1s\n",
            "[CV] n_estimators=200, min_samples_split=2, min_samples_leaf=2, max_features=auto, max_depth=30 \n",
            "[CV]  n_estimators=200, min_samples_split=2, min_samples_leaf=2, max_features=auto, max_depth=30, total=   0.3s\n",
            "[CV] n_estimators=200, min_samples_split=2, min_samples_leaf=2, max_features=auto, max_depth=30 \n",
            "[CV]  n_estimators=200, min_samples_split=2, min_samples_leaf=2, max_features=auto, max_depth=30, total=   0.3s\n",
            "[CV] n_estimators=200, min_samples_split=2, min_samples_leaf=2, max_features=auto, max_depth=30 \n",
            "[CV]  n_estimators=200, min_samples_split=2, min_samples_leaf=2, max_features=auto, max_depth=30, total=   0.3s\n",
            "[CV] n_estimators=200, min_samples_split=2, min_samples_leaf=2, max_features=auto, max_depth=30 \n",
            "[CV]  n_estimators=200, min_samples_split=2, min_samples_leaf=2, max_features=auto, max_depth=30, total=   0.3s\n",
            "[CV] n_estimators=200, min_samples_split=2, min_samples_leaf=2, max_features=auto, max_depth=30 \n",
            "[CV]  n_estimators=200, min_samples_split=2, min_samples_leaf=2, max_features=auto, max_depth=30, total=   0.3s\n",
            "[CV] n_estimators=400, min_samples_split=5, min_samples_leaf=10, max_features=sqrt, max_depth=15 \n",
            "[CV]  n_estimators=400, min_samples_split=5, min_samples_leaf=10, max_features=sqrt, max_depth=15, total=   0.5s\n",
            "[CV] n_estimators=400, min_samples_split=5, min_samples_leaf=10, max_features=sqrt, max_depth=15 \n",
            "[CV]  n_estimators=400, min_samples_split=5, min_samples_leaf=10, max_features=sqrt, max_depth=15, total=   0.5s\n",
            "[CV] n_estimators=400, min_samples_split=5, min_samples_leaf=10, max_features=sqrt, max_depth=15 \n",
            "[CV]  n_estimators=400, min_samples_split=5, min_samples_leaf=10, max_features=sqrt, max_depth=15, total=   0.5s\n",
            "[CV] n_estimators=400, min_samples_split=5, min_samples_leaf=10, max_features=sqrt, max_depth=15 \n",
            "[CV]  n_estimators=400, min_samples_split=5, min_samples_leaf=10, max_features=sqrt, max_depth=15, total=   0.5s\n",
            "[CV] n_estimators=400, min_samples_split=5, min_samples_leaf=10, max_features=sqrt, max_depth=15 \n",
            "[CV]  n_estimators=400, min_samples_split=5, min_samples_leaf=10, max_features=sqrt, max_depth=15, total=   0.5s\n",
            "[CV] n_estimators=1000, min_samples_split=15, min_samples_leaf=1, max_features=auto, max_depth=15 \n",
            "[CV]  n_estimators=1000, min_samples_split=15, min_samples_leaf=1, max_features=auto, max_depth=15, total=   1.3s\n",
            "[CV] n_estimators=1000, min_samples_split=15, min_samples_leaf=1, max_features=auto, max_depth=15 \n",
            "[CV]  n_estimators=1000, min_samples_split=15, min_samples_leaf=1, max_features=auto, max_depth=15, total=   1.4s\n",
            "[CV] n_estimators=1000, min_samples_split=15, min_samples_leaf=1, max_features=auto, max_depth=15 \n",
            "[CV]  n_estimators=1000, min_samples_split=15, min_samples_leaf=1, max_features=auto, max_depth=15, total=   1.4s\n",
            "[CV] n_estimators=1000, min_samples_split=15, min_samples_leaf=1, max_features=auto, max_depth=15 \n",
            "[CV]  n_estimators=1000, min_samples_split=15, min_samples_leaf=1, max_features=auto, max_depth=15, total=   1.3s\n",
            "[CV] n_estimators=1000, min_samples_split=15, min_samples_leaf=1, max_features=auto, max_depth=15 \n",
            "[CV]  n_estimators=1000, min_samples_split=15, min_samples_leaf=1, max_features=auto, max_depth=15, total=   1.4s\n",
            "[CV] n_estimators=1100, min_samples_split=100, min_samples_leaf=10, max_features=sqrt, max_depth=5 \n",
            "[CV]  n_estimators=1100, min_samples_split=100, min_samples_leaf=10, max_features=sqrt, max_depth=5, total=   1.3s\n",
            "[CV] n_estimators=1100, min_samples_split=100, min_samples_leaf=10, max_features=sqrt, max_depth=5 \n",
            "[CV]  n_estimators=1100, min_samples_split=100, min_samples_leaf=10, max_features=sqrt, max_depth=5, total=   1.3s\n",
            "[CV] n_estimators=1100, min_samples_split=100, min_samples_leaf=10, max_features=sqrt, max_depth=5 \n",
            "[CV]  n_estimators=1100, min_samples_split=100, min_samples_leaf=10, max_features=sqrt, max_depth=5, total=   1.3s\n",
            "[CV] n_estimators=1100, min_samples_split=100, min_samples_leaf=10, max_features=sqrt, max_depth=5 \n",
            "[CV]  n_estimators=1100, min_samples_split=100, min_samples_leaf=10, max_features=sqrt, max_depth=5, total=   1.3s\n",
            "[CV] n_estimators=1100, min_samples_split=100, min_samples_leaf=10, max_features=sqrt, max_depth=5 \n",
            "[CV]  n_estimators=1100, min_samples_split=100, min_samples_leaf=10, max_features=sqrt, max_depth=5, total=   1.3s\n",
            "[CV] n_estimators=900, min_samples_split=100, min_samples_leaf=5, max_features=auto, max_depth=30 \n",
            "[CV]  n_estimators=900, min_samples_split=100, min_samples_leaf=5, max_features=auto, max_depth=30, total=   1.1s\n",
            "[CV] n_estimators=900, min_samples_split=100, min_samples_leaf=5, max_features=auto, max_depth=30 \n",
            "[CV]  n_estimators=900, min_samples_split=100, min_samples_leaf=5, max_features=auto, max_depth=30, total=   1.1s\n",
            "[CV] n_estimators=900, min_samples_split=100, min_samples_leaf=5, max_features=auto, max_depth=30 \n",
            "[CV]  n_estimators=900, min_samples_split=100, min_samples_leaf=5, max_features=auto, max_depth=30, total=   1.1s\n",
            "[CV] n_estimators=900, min_samples_split=100, min_samples_leaf=5, max_features=auto, max_depth=30 \n",
            "[CV]  n_estimators=900, min_samples_split=100, min_samples_leaf=5, max_features=auto, max_depth=30, total=   1.1s\n",
            "[CV] n_estimators=900, min_samples_split=100, min_samples_leaf=5, max_features=auto, max_depth=30 \n",
            "[CV]  n_estimators=900, min_samples_split=100, min_samples_leaf=5, max_features=auto, max_depth=30, total=   1.1s\n",
            "[CV] n_estimators=300, min_samples_split=100, min_samples_leaf=5, max_features=sqrt, max_depth=15 \n",
            "[CV]  n_estimators=300, min_samples_split=100, min_samples_leaf=5, max_features=sqrt, max_depth=15, total=   0.4s\n",
            "[CV] n_estimators=300, min_samples_split=100, min_samples_leaf=5, max_features=sqrt, max_depth=15 \n",
            "[CV]  n_estimators=300, min_samples_split=100, min_samples_leaf=5, max_features=sqrt, max_depth=15, total=   0.4s\n",
            "[CV] n_estimators=300, min_samples_split=100, min_samples_leaf=5, max_features=sqrt, max_depth=15 \n",
            "[CV]  n_estimators=300, min_samples_split=100, min_samples_leaf=5, max_features=sqrt, max_depth=15, total=   0.4s\n",
            "[CV] n_estimators=300, min_samples_split=100, min_samples_leaf=5, max_features=sqrt, max_depth=15 \n",
            "[CV]  n_estimators=300, min_samples_split=100, min_samples_leaf=5, max_features=sqrt, max_depth=15, total=   0.4s\n",
            "[CV] n_estimators=300, min_samples_split=100, min_samples_leaf=5, max_features=sqrt, max_depth=15 \n",
            "[CV]  n_estimators=300, min_samples_split=100, min_samples_leaf=5, max_features=sqrt, max_depth=15, total=   0.4s\n",
            "[CV] n_estimators=1200, min_samples_split=15, min_samples_leaf=1, max_features=sqrt, max_depth=10 \n",
            "[CV]  n_estimators=1200, min_samples_split=15, min_samples_leaf=1, max_features=sqrt, max_depth=10, total=   1.5s\n",
            "[CV] n_estimators=1200, min_samples_split=15, min_samples_leaf=1, max_features=sqrt, max_depth=10 \n",
            "[CV]  n_estimators=1200, min_samples_split=15, min_samples_leaf=1, max_features=sqrt, max_depth=10, total=   1.5s\n",
            "[CV] n_estimators=1200, min_samples_split=15, min_samples_leaf=1, max_features=sqrt, max_depth=10 \n",
            "[CV]  n_estimators=1200, min_samples_split=15, min_samples_leaf=1, max_features=sqrt, max_depth=10, total=   1.5s\n",
            "[CV] n_estimators=1200, min_samples_split=15, min_samples_leaf=1, max_features=sqrt, max_depth=10 \n",
            "[CV]  n_estimators=1200, min_samples_split=15, min_samples_leaf=1, max_features=sqrt, max_depth=10, total=   1.5s\n",
            "[CV] n_estimators=1200, min_samples_split=15, min_samples_leaf=1, max_features=sqrt, max_depth=10 \n",
            "[CV]  n_estimators=1200, min_samples_split=15, min_samples_leaf=1, max_features=sqrt, max_depth=10, total=   1.5s\n",
            "[CV] n_estimators=1000, min_samples_split=5, min_samples_leaf=1, max_features=sqrt, max_depth=10 \n",
            "[CV]  n_estimators=1000, min_samples_split=5, min_samples_leaf=1, max_features=sqrt, max_depth=10, total=   1.3s\n",
            "[CV] n_estimators=1000, min_samples_split=5, min_samples_leaf=1, max_features=sqrt, max_depth=10 \n",
            "[CV]  n_estimators=1000, min_samples_split=5, min_samples_leaf=1, max_features=sqrt, max_depth=10, total=   1.3s\n",
            "[CV] n_estimators=1000, min_samples_split=5, min_samples_leaf=1, max_features=sqrt, max_depth=10 \n",
            "[CV]  n_estimators=1000, min_samples_split=5, min_samples_leaf=1, max_features=sqrt, max_depth=10, total=   1.4s\n",
            "[CV] n_estimators=1000, min_samples_split=5, min_samples_leaf=1, max_features=sqrt, max_depth=10 \n",
            "[CV]  n_estimators=1000, min_samples_split=5, min_samples_leaf=1, max_features=sqrt, max_depth=10, total=   1.3s\n",
            "[CV] n_estimators=1000, min_samples_split=5, min_samples_leaf=1, max_features=sqrt, max_depth=10 \n",
            "[CV]  n_estimators=1000, min_samples_split=5, min_samples_leaf=1, max_features=sqrt, max_depth=10, total=   1.3s\n",
            "[CV] n_estimators=700, min_samples_split=15, min_samples_leaf=5, max_features=auto, max_depth=5 \n",
            "[CV]  n_estimators=700, min_samples_split=15, min_samples_leaf=5, max_features=auto, max_depth=5, total=   0.9s\n",
            "[CV] n_estimators=700, min_samples_split=15, min_samples_leaf=5, max_features=auto, max_depth=5 \n",
            "[CV]  n_estimators=700, min_samples_split=15, min_samples_leaf=5, max_features=auto, max_depth=5, total=   0.9s\n",
            "[CV] n_estimators=700, min_samples_split=15, min_samples_leaf=5, max_features=auto, max_depth=5 \n",
            "[CV]  n_estimators=700, min_samples_split=15, min_samples_leaf=5, max_features=auto, max_depth=5, total=   1.0s\n",
            "[CV] n_estimators=700, min_samples_split=15, min_samples_leaf=5, max_features=auto, max_depth=5 \n",
            "[CV]  n_estimators=700, min_samples_split=15, min_samples_leaf=5, max_features=auto, max_depth=5, total=   0.9s\n",
            "[CV] n_estimators=700, min_samples_split=15, min_samples_leaf=5, max_features=auto, max_depth=5 \n",
            "[CV]  n_estimators=700, min_samples_split=15, min_samples_leaf=5, max_features=auto, max_depth=5, total=   0.9s\n",
            "[CV] n_estimators=200, min_samples_split=2, min_samples_leaf=2, max_features=sqrt, max_depth=25 \n",
            "[CV]  n_estimators=200, min_samples_split=2, min_samples_leaf=2, max_features=sqrt, max_depth=25, total=   0.3s\n",
            "[CV] n_estimators=200, min_samples_split=2, min_samples_leaf=2, max_features=sqrt, max_depth=25 \n",
            "[CV]  n_estimators=200, min_samples_split=2, min_samples_leaf=2, max_features=sqrt, max_depth=25, total=   0.3s\n",
            "[CV] n_estimators=200, min_samples_split=2, min_samples_leaf=2, max_features=sqrt, max_depth=25 \n",
            "[CV]  n_estimators=200, min_samples_split=2, min_samples_leaf=2, max_features=sqrt, max_depth=25, total=   0.3s\n",
            "[CV] n_estimators=200, min_samples_split=2, min_samples_leaf=2, max_features=sqrt, max_depth=25 \n",
            "[CV]  n_estimators=200, min_samples_split=2, min_samples_leaf=2, max_features=sqrt, max_depth=25, total=   0.3s\n",
            "[CV] n_estimators=200, min_samples_split=2, min_samples_leaf=2, max_features=sqrt, max_depth=25 \n",
            "[CV]  n_estimators=200, min_samples_split=2, min_samples_leaf=2, max_features=sqrt, max_depth=25, total=   0.3s\n",
            "[CV] n_estimators=700, min_samples_split=5, min_samples_leaf=1, max_features=auto, max_depth=30 \n",
            "[CV]  n_estimators=700, min_samples_split=5, min_samples_leaf=1, max_features=auto, max_depth=30, total=   1.0s\n",
            "[CV] n_estimators=700, min_samples_split=5, min_samples_leaf=1, max_features=auto, max_depth=30 \n",
            "[CV]  n_estimators=700, min_samples_split=5, min_samples_leaf=1, max_features=auto, max_depth=30, total=   1.0s\n",
            "[CV] n_estimators=700, min_samples_split=5, min_samples_leaf=1, max_features=auto, max_depth=30 \n",
            "[CV]  n_estimators=700, min_samples_split=5, min_samples_leaf=1, max_features=auto, max_depth=30, total=   1.0s\n",
            "[CV] n_estimators=700, min_samples_split=5, min_samples_leaf=1, max_features=auto, max_depth=30 \n",
            "[CV]  n_estimators=700, min_samples_split=5, min_samples_leaf=1, max_features=auto, max_depth=30, total=   1.0s\n",
            "[CV] n_estimators=700, min_samples_split=5, min_samples_leaf=1, max_features=auto, max_depth=30 \n",
            "[CV]  n_estimators=700, min_samples_split=5, min_samples_leaf=1, max_features=auto, max_depth=30, total=   1.0s\n",
            "[CV] n_estimators=500, min_samples_split=100, min_samples_leaf=10, max_features=sqrt, max_depth=20 \n",
            "[CV]  n_estimators=500, min_samples_split=100, min_samples_leaf=10, max_features=sqrt, max_depth=20, total=   0.6s\n",
            "[CV] n_estimators=500, min_samples_split=100, min_samples_leaf=10, max_features=sqrt, max_depth=20 \n",
            "[CV]  n_estimators=500, min_samples_split=100, min_samples_leaf=10, max_features=sqrt, max_depth=20, total=   0.6s\n",
            "[CV] n_estimators=500, min_samples_split=100, min_samples_leaf=10, max_features=sqrt, max_depth=20 \n",
            "[CV]  n_estimators=500, min_samples_split=100, min_samples_leaf=10, max_features=sqrt, max_depth=20, total=   0.6s\n",
            "[CV] n_estimators=500, min_samples_split=100, min_samples_leaf=10, max_features=sqrt, max_depth=20 \n",
            "[CV]  n_estimators=500, min_samples_split=100, min_samples_leaf=10, max_features=sqrt, max_depth=20, total=   0.6s\n",
            "[CV] n_estimators=500, min_samples_split=100, min_samples_leaf=10, max_features=sqrt, max_depth=20 \n",
            "[CV]  n_estimators=500, min_samples_split=100, min_samples_leaf=10, max_features=sqrt, max_depth=20, total=   0.6s\n",
            "[CV] n_estimators=600, min_samples_split=2, min_samples_leaf=10, max_features=sqrt, max_depth=30 \n",
            "[CV]  n_estimators=600, min_samples_split=2, min_samples_leaf=10, max_features=sqrt, max_depth=30, total=   0.7s\n",
            "[CV] n_estimators=600, min_samples_split=2, min_samples_leaf=10, max_features=sqrt, max_depth=30 \n",
            "[CV]  n_estimators=600, min_samples_split=2, min_samples_leaf=10, max_features=sqrt, max_depth=30, total=   0.7s\n",
            "[CV] n_estimators=600, min_samples_split=2, min_samples_leaf=10, max_features=sqrt, max_depth=30 \n",
            "[CV]  n_estimators=600, min_samples_split=2, min_samples_leaf=10, max_features=sqrt, max_depth=30, total=   0.8s\n",
            "[CV] n_estimators=600, min_samples_split=2, min_samples_leaf=10, max_features=sqrt, max_depth=30 \n",
            "[CV]  n_estimators=600, min_samples_split=2, min_samples_leaf=10, max_features=sqrt, max_depth=30, total=   0.7s\n",
            "[CV] n_estimators=600, min_samples_split=2, min_samples_leaf=10, max_features=sqrt, max_depth=30 \n",
            "[CV]  n_estimators=600, min_samples_split=2, min_samples_leaf=10, max_features=sqrt, max_depth=30, total=   0.8s\n",
            "[CV] n_estimators=1000, min_samples_split=2, min_samples_leaf=2, max_features=sqrt, max_depth=10 \n",
            "[CV]  n_estimators=1000, min_samples_split=2, min_samples_leaf=2, max_features=sqrt, max_depth=10, total=   1.2s\n",
            "[CV] n_estimators=1000, min_samples_split=2, min_samples_leaf=2, max_features=sqrt, max_depth=10 \n",
            "[CV]  n_estimators=1000, min_samples_split=2, min_samples_leaf=2, max_features=sqrt, max_depth=10, total=   1.3s\n",
            "[CV] n_estimators=1000, min_samples_split=2, min_samples_leaf=2, max_features=sqrt, max_depth=10 \n",
            "[CV]  n_estimators=1000, min_samples_split=2, min_samples_leaf=2, max_features=sqrt, max_depth=10, total=   1.3s\n",
            "[CV] n_estimators=1000, min_samples_split=2, min_samples_leaf=2, max_features=sqrt, max_depth=10 \n",
            "[CV]  n_estimators=1000, min_samples_split=2, min_samples_leaf=2, max_features=sqrt, max_depth=10, total=   1.3s\n",
            "[CV] n_estimators=1000, min_samples_split=2, min_samples_leaf=2, max_features=sqrt, max_depth=10 \n",
            "[CV]  n_estimators=1000, min_samples_split=2, min_samples_leaf=2, max_features=sqrt, max_depth=10, total=   1.3s\n",
            "[CV] n_estimators=500, min_samples_split=5, min_samples_leaf=10, max_features=auto, max_depth=5 \n",
            "[CV]  n_estimators=500, min_samples_split=5, min_samples_leaf=10, max_features=auto, max_depth=5, total=   0.6s\n",
            "[CV] n_estimators=500, min_samples_split=5, min_samples_leaf=10, max_features=auto, max_depth=5 \n",
            "[CV]  n_estimators=500, min_samples_split=5, min_samples_leaf=10, max_features=auto, max_depth=5, total=   0.7s\n",
            "[CV] n_estimators=500, min_samples_split=5, min_samples_leaf=10, max_features=auto, max_depth=5 \n",
            "[CV]  n_estimators=500, min_samples_split=5, min_samples_leaf=10, max_features=auto, max_depth=5, total=   0.7s\n",
            "[CV] n_estimators=500, min_samples_split=5, min_samples_leaf=10, max_features=auto, max_depth=5 \n",
            "[CV]  n_estimators=500, min_samples_split=5, min_samples_leaf=10, max_features=auto, max_depth=5, total=   0.7s\n",
            "[CV] n_estimators=500, min_samples_split=5, min_samples_leaf=10, max_features=auto, max_depth=5 \n",
            "[CV]  n_estimators=500, min_samples_split=5, min_samples_leaf=10, max_features=auto, max_depth=5, total=   0.6s\n",
            "[CV] n_estimators=700, min_samples_split=10, min_samples_leaf=10, max_features=auto, max_depth=25 \n",
            "[CV]  n_estimators=700, min_samples_split=10, min_samples_leaf=10, max_features=auto, max_depth=25, total=   0.9s\n",
            "[CV] n_estimators=700, min_samples_split=10, min_samples_leaf=10, max_features=auto, max_depth=25 \n",
            "[CV]  n_estimators=700, min_samples_split=10, min_samples_leaf=10, max_features=auto, max_depth=25, total=   0.9s\n",
            "[CV] n_estimators=700, min_samples_split=10, min_samples_leaf=10, max_features=auto, max_depth=25 \n",
            "[CV]  n_estimators=700, min_samples_split=10, min_samples_leaf=10, max_features=auto, max_depth=25, total=   0.9s\n",
            "[CV] n_estimators=700, min_samples_split=10, min_samples_leaf=10, max_features=auto, max_depth=25 \n",
            "[CV]  n_estimators=700, min_samples_split=10, min_samples_leaf=10, max_features=auto, max_depth=25, total=   0.9s\n",
            "[CV] n_estimators=700, min_samples_split=10, min_samples_leaf=10, max_features=auto, max_depth=25 \n",
            "[CV]  n_estimators=700, min_samples_split=10, min_samples_leaf=10, max_features=auto, max_depth=25, total=   0.9s\n",
            "[CV] n_estimators=1000, min_samples_split=15, min_samples_leaf=10, max_features=sqrt, max_depth=30 \n",
            "[CV]  n_estimators=1000, min_samples_split=15, min_samples_leaf=10, max_features=sqrt, max_depth=30, total=   1.2s\n",
            "[CV] n_estimators=1000, min_samples_split=15, min_samples_leaf=10, max_features=sqrt, max_depth=30 \n",
            "[CV]  n_estimators=1000, min_samples_split=15, min_samples_leaf=10, max_features=sqrt, max_depth=30, total=   1.2s\n",
            "[CV] n_estimators=1000, min_samples_split=15, min_samples_leaf=10, max_features=sqrt, max_depth=30 \n",
            "[CV]  n_estimators=1000, min_samples_split=15, min_samples_leaf=10, max_features=sqrt, max_depth=30, total=   1.2s\n",
            "[CV] n_estimators=1000, min_samples_split=15, min_samples_leaf=10, max_features=sqrt, max_depth=30 \n",
            "[CV]  n_estimators=1000, min_samples_split=15, min_samples_leaf=10, max_features=sqrt, max_depth=30, total=   1.2s\n",
            "[CV] n_estimators=1000, min_samples_split=15, min_samples_leaf=10, max_features=sqrt, max_depth=30 \n",
            "[CV]  n_estimators=1000, min_samples_split=15, min_samples_leaf=10, max_features=sqrt, max_depth=30, total=   1.2s\n",
            "[CV] n_estimators=600, min_samples_split=5, min_samples_leaf=1, max_features=sqrt, max_depth=20 \n",
            "[CV]  n_estimators=600, min_samples_split=5, min_samples_leaf=1, max_features=sqrt, max_depth=20, total=   0.8s\n",
            "[CV] n_estimators=600, min_samples_split=5, min_samples_leaf=1, max_features=sqrt, max_depth=20 \n",
            "[CV]  n_estimators=600, min_samples_split=5, min_samples_leaf=1, max_features=sqrt, max_depth=20, total=   0.8s\n",
            "[CV] n_estimators=600, min_samples_split=5, min_samples_leaf=1, max_features=sqrt, max_depth=20 \n",
            "[CV]  n_estimators=600, min_samples_split=5, min_samples_leaf=1, max_features=sqrt, max_depth=20, total=   0.8s\n",
            "[CV] n_estimators=600, min_samples_split=5, min_samples_leaf=1, max_features=sqrt, max_depth=20 \n",
            "[CV]  n_estimators=600, min_samples_split=5, min_samples_leaf=1, max_features=sqrt, max_depth=20, total=   0.8s\n",
            "[CV] n_estimators=600, min_samples_split=5, min_samples_leaf=1, max_features=sqrt, max_depth=20 \n",
            "[CV]  n_estimators=600, min_samples_split=5, min_samples_leaf=1, max_features=sqrt, max_depth=20, total=   0.8s\n",
            "[CV] n_estimators=1000, min_samples_split=2, min_samples_leaf=2, max_features=sqrt, max_depth=5 \n",
            "[CV]  n_estimators=1000, min_samples_split=2, min_samples_leaf=2, max_features=sqrt, max_depth=5, total=   1.3s\n",
            "[CV] n_estimators=1000, min_samples_split=2, min_samples_leaf=2, max_features=sqrt, max_depth=5 \n",
            "[CV]  n_estimators=1000, min_samples_split=2, min_samples_leaf=2, max_features=sqrt, max_depth=5, total=   1.3s\n",
            "[CV] n_estimators=1000, min_samples_split=2, min_samples_leaf=2, max_features=sqrt, max_depth=5 \n",
            "[CV]  n_estimators=1000, min_samples_split=2, min_samples_leaf=2, max_features=sqrt, max_depth=5, total=   1.2s\n",
            "[CV] n_estimators=1000, min_samples_split=2, min_samples_leaf=2, max_features=sqrt, max_depth=5 \n",
            "[CV]  n_estimators=1000, min_samples_split=2, min_samples_leaf=2, max_features=sqrt, max_depth=5, total=   1.3s\n",
            "[CV] n_estimators=1000, min_samples_split=2, min_samples_leaf=2, max_features=sqrt, max_depth=5 \n",
            "[CV]  n_estimators=1000, min_samples_split=2, min_samples_leaf=2, max_features=sqrt, max_depth=5, total=   1.2s\n",
            "[CV] n_estimators=900, min_samples_split=15, min_samples_leaf=5, max_features=auto, max_depth=25 \n",
            "[CV]  n_estimators=900, min_samples_split=15, min_samples_leaf=5, max_features=auto, max_depth=25, total=   1.2s\n",
            "[CV] n_estimators=900, min_samples_split=15, min_samples_leaf=5, max_features=auto, max_depth=25 \n",
            "[CV]  n_estimators=900, min_samples_split=15, min_samples_leaf=5, max_features=auto, max_depth=25, total=   1.2s\n",
            "[CV] n_estimators=900, min_samples_split=15, min_samples_leaf=5, max_features=auto, max_depth=25 \n",
            "[CV]  n_estimators=900, min_samples_split=15, min_samples_leaf=5, max_features=auto, max_depth=25, total=   1.2s\n",
            "[CV] n_estimators=900, min_samples_split=15, min_samples_leaf=5, max_features=auto, max_depth=25 \n",
            "[CV]  n_estimators=900, min_samples_split=15, min_samples_leaf=5, max_features=auto, max_depth=25, total=   1.2s\n",
            "[CV] n_estimators=900, min_samples_split=15, min_samples_leaf=5, max_features=auto, max_depth=25 \n",
            "[CV]  n_estimators=900, min_samples_split=15, min_samples_leaf=5, max_features=auto, max_depth=25, total=   1.2s\n",
            "[CV] n_estimators=1100, min_samples_split=15, min_samples_leaf=1, max_features=sqrt, max_depth=20 \n",
            "[CV]  n_estimators=1100, min_samples_split=15, min_samples_leaf=1, max_features=sqrt, max_depth=20, total=   1.4s\n",
            "[CV] n_estimators=1100, min_samples_split=15, min_samples_leaf=1, max_features=sqrt, max_depth=20 \n",
            "[CV]  n_estimators=1100, min_samples_split=15, min_samples_leaf=1, max_features=sqrt, max_depth=20, total=   1.4s\n",
            "[CV] n_estimators=1100, min_samples_split=15, min_samples_leaf=1, max_features=sqrt, max_depth=20 \n",
            "[CV]  n_estimators=1100, min_samples_split=15, min_samples_leaf=1, max_features=sqrt, max_depth=20, total=   1.6s\n",
            "[CV] n_estimators=1100, min_samples_split=15, min_samples_leaf=1, max_features=sqrt, max_depth=20 \n",
            "[CV]  n_estimators=1100, min_samples_split=15, min_samples_leaf=1, max_features=sqrt, max_depth=20, total=   1.4s\n",
            "[CV] n_estimators=1100, min_samples_split=15, min_samples_leaf=1, max_features=sqrt, max_depth=20 \n",
            "[CV]  n_estimators=1100, min_samples_split=15, min_samples_leaf=1, max_features=sqrt, max_depth=20, total=   1.4s\n",
            "[CV] n_estimators=1200, min_samples_split=10, min_samples_leaf=1, max_features=sqrt, max_depth=10 \n",
            "[CV]  n_estimators=1200, min_samples_split=10, min_samples_leaf=1, max_features=sqrt, max_depth=10, total=   1.5s\n",
            "[CV] n_estimators=1200, min_samples_split=10, min_samples_leaf=1, max_features=sqrt, max_depth=10 \n",
            "[CV]  n_estimators=1200, min_samples_split=10, min_samples_leaf=1, max_features=sqrt, max_depth=10, total=   1.5s\n",
            "[CV] n_estimators=1200, min_samples_split=10, min_samples_leaf=1, max_features=sqrt, max_depth=10 \n",
            "[CV]  n_estimators=1200, min_samples_split=10, min_samples_leaf=1, max_features=sqrt, max_depth=10, total=   1.5s\n",
            "[CV] n_estimators=1200, min_samples_split=10, min_samples_leaf=1, max_features=sqrt, max_depth=10 \n",
            "[CV]  n_estimators=1200, min_samples_split=10, min_samples_leaf=1, max_features=sqrt, max_depth=10, total=   1.5s\n",
            "[CV] n_estimators=1200, min_samples_split=10, min_samples_leaf=1, max_features=sqrt, max_depth=10 \n",
            "[CV]  n_estimators=1200, min_samples_split=10, min_samples_leaf=1, max_features=sqrt, max_depth=10, total=   1.5s\n",
            "[CV] n_estimators=500, min_samples_split=5, min_samples_leaf=10, max_features=sqrt, max_depth=5 \n",
            "[CV]  n_estimators=500, min_samples_split=5, min_samples_leaf=10, max_features=sqrt, max_depth=5, total=   0.6s\n",
            "[CV] n_estimators=500, min_samples_split=5, min_samples_leaf=10, max_features=sqrt, max_depth=5 \n",
            "[CV]  n_estimators=500, min_samples_split=5, min_samples_leaf=10, max_features=sqrt, max_depth=5, total=   0.6s\n",
            "[CV] n_estimators=500, min_samples_split=5, min_samples_leaf=10, max_features=sqrt, max_depth=5 \n",
            "[CV]  n_estimators=500, min_samples_split=5, min_samples_leaf=10, max_features=sqrt, max_depth=5, total=   0.6s\n",
            "[CV] n_estimators=500, min_samples_split=5, min_samples_leaf=10, max_features=sqrt, max_depth=5 \n",
            "[CV]  n_estimators=500, min_samples_split=5, min_samples_leaf=10, max_features=sqrt, max_depth=5, total=   0.6s\n",
            "[CV] n_estimators=500, min_samples_split=5, min_samples_leaf=10, max_features=sqrt, max_depth=5 \n",
            "[CV]  n_estimators=500, min_samples_split=5, min_samples_leaf=10, max_features=sqrt, max_depth=5, total=   0.6s\n",
            "[CV] n_estimators=900, min_samples_split=5, min_samples_leaf=5, max_features=sqrt, max_depth=30 \n",
            "[CV]  n_estimators=900, min_samples_split=5, min_samples_leaf=5, max_features=sqrt, max_depth=30, total=   1.1s\n",
            "[CV] n_estimators=900, min_samples_split=5, min_samples_leaf=5, max_features=sqrt, max_depth=30 \n",
            "[CV]  n_estimators=900, min_samples_split=5, min_samples_leaf=5, max_features=sqrt, max_depth=30, total=   1.1s\n",
            "[CV] n_estimators=900, min_samples_split=5, min_samples_leaf=5, max_features=sqrt, max_depth=30 \n",
            "[CV]  n_estimators=900, min_samples_split=5, min_samples_leaf=5, max_features=sqrt, max_depth=30, total=   1.1s\n",
            "[CV] n_estimators=900, min_samples_split=5, min_samples_leaf=5, max_features=sqrt, max_depth=30 \n",
            "[CV]  n_estimators=900, min_samples_split=5, min_samples_leaf=5, max_features=sqrt, max_depth=30, total=   1.1s\n",
            "[CV] n_estimators=900, min_samples_split=5, min_samples_leaf=5, max_features=sqrt, max_depth=30 \n",
            "[CV]  n_estimators=900, min_samples_split=5, min_samples_leaf=5, max_features=sqrt, max_depth=30, total=   1.1s\n",
            "[CV] n_estimators=300, min_samples_split=15, min_samples_leaf=1, max_features=auto, max_depth=15 \n",
            "[CV]  n_estimators=300, min_samples_split=15, min_samples_leaf=1, max_features=auto, max_depth=15, total=   0.4s\n",
            "[CV] n_estimators=300, min_samples_split=15, min_samples_leaf=1, max_features=auto, max_depth=15 \n",
            "[CV]  n_estimators=300, min_samples_split=15, min_samples_leaf=1, max_features=auto, max_depth=15, total=   0.4s\n",
            "[CV] n_estimators=300, min_samples_split=15, min_samples_leaf=1, max_features=auto, max_depth=15 \n",
            "[CV]  n_estimators=300, min_samples_split=15, min_samples_leaf=1, max_features=auto, max_depth=15, total=   0.4s\n",
            "[CV] n_estimators=300, min_samples_split=15, min_samples_leaf=1, max_features=auto, max_depth=15 \n",
            "[CV]  n_estimators=300, min_samples_split=15, min_samples_leaf=1, max_features=auto, max_depth=15, total=   0.4s\n",
            "[CV] n_estimators=300, min_samples_split=15, min_samples_leaf=1, max_features=auto, max_depth=15 \n",
            "[CV]  n_estimators=300, min_samples_split=15, min_samples_leaf=1, max_features=auto, max_depth=15, total=   0.4s\n",
            "[CV] n_estimators=1200, min_samples_split=10, min_samples_leaf=1, max_features=auto, max_depth=20 \n",
            "[CV]  n_estimators=1200, min_samples_split=10, min_samples_leaf=1, max_features=auto, max_depth=20, total=   1.6s\n",
            "[CV] n_estimators=1200, min_samples_split=10, min_samples_leaf=1, max_features=auto, max_depth=20 \n",
            "[CV]  n_estimators=1200, min_samples_split=10, min_samples_leaf=1, max_features=auto, max_depth=20, total=   1.7s\n",
            "[CV] n_estimators=1200, min_samples_split=10, min_samples_leaf=1, max_features=auto, max_depth=20 \n",
            "[CV]  n_estimators=1200, min_samples_split=10, min_samples_leaf=1, max_features=auto, max_depth=20, total=   1.6s\n",
            "[CV] n_estimators=1200, min_samples_split=10, min_samples_leaf=1, max_features=auto, max_depth=20 \n",
            "[CV]  n_estimators=1200, min_samples_split=10, min_samples_leaf=1, max_features=auto, max_depth=20, total=   1.7s\n",
            "[CV] n_estimators=1200, min_samples_split=10, min_samples_leaf=1, max_features=auto, max_depth=20 \n",
            "[CV]  n_estimators=1200, min_samples_split=10, min_samples_leaf=1, max_features=auto, max_depth=20, total=   1.6s\n",
            "[CV] n_estimators=200, min_samples_split=5, min_samples_leaf=10, max_features=sqrt, max_depth=5 \n",
            "[CV]  n_estimators=200, min_samples_split=5, min_samples_leaf=10, max_features=sqrt, max_depth=5, total=   0.3s\n",
            "[CV] n_estimators=200, min_samples_split=5, min_samples_leaf=10, max_features=sqrt, max_depth=5 \n",
            "[CV]  n_estimators=200, min_samples_split=5, min_samples_leaf=10, max_features=sqrt, max_depth=5, total=   0.3s\n",
            "[CV] n_estimators=200, min_samples_split=5, min_samples_leaf=10, max_features=sqrt, max_depth=5 \n",
            "[CV]  n_estimators=200, min_samples_split=5, min_samples_leaf=10, max_features=sqrt, max_depth=5, total=   0.3s\n",
            "[CV] n_estimators=200, min_samples_split=5, min_samples_leaf=10, max_features=sqrt, max_depth=5 \n",
            "[CV]  n_estimators=200, min_samples_split=5, min_samples_leaf=10, max_features=sqrt, max_depth=5, total=   0.3s\n",
            "[CV] n_estimators=200, min_samples_split=5, min_samples_leaf=10, max_features=sqrt, max_depth=5 \n",
            "[CV]  n_estimators=200, min_samples_split=5, min_samples_leaf=10, max_features=sqrt, max_depth=5, total=   0.3s\n",
            "[CV] n_estimators=900, min_samples_split=100, min_samples_leaf=10, max_features=sqrt, max_depth=30 \n",
            "[CV]  n_estimators=900, min_samples_split=100, min_samples_leaf=10, max_features=sqrt, max_depth=30, total=   1.1s\n",
            "[CV] n_estimators=900, min_samples_split=100, min_samples_leaf=10, max_features=sqrt, max_depth=30 \n",
            "[CV]  n_estimators=900, min_samples_split=100, min_samples_leaf=10, max_features=sqrt, max_depth=30, total=   1.1s\n",
            "[CV] n_estimators=900, min_samples_split=100, min_samples_leaf=10, max_features=sqrt, max_depth=30 \n",
            "[CV]  n_estimators=900, min_samples_split=100, min_samples_leaf=10, max_features=sqrt, max_depth=30, total=   1.1s\n",
            "[CV] n_estimators=900, min_samples_split=100, min_samples_leaf=10, max_features=sqrt, max_depth=30 \n",
            "[CV]  n_estimators=900, min_samples_split=100, min_samples_leaf=10, max_features=sqrt, max_depth=30, total=   1.1s\n",
            "[CV] n_estimators=900, min_samples_split=100, min_samples_leaf=10, max_features=sqrt, max_depth=30 \n",
            "[CV]  n_estimators=900, min_samples_split=100, min_samples_leaf=10, max_features=sqrt, max_depth=30, total=   1.1s\n",
            "[CV] n_estimators=200, min_samples_split=100, min_samples_leaf=2, max_features=sqrt, max_depth=30 \n",
            "[CV]  n_estimators=200, min_samples_split=100, min_samples_leaf=2, max_features=sqrt, max_depth=30, total=   0.2s\n",
            "[CV] n_estimators=200, min_samples_split=100, min_samples_leaf=2, max_features=sqrt, max_depth=30 \n",
            "[CV]  n_estimators=200, min_samples_split=100, min_samples_leaf=2, max_features=sqrt, max_depth=30, total=   0.3s\n",
            "[CV] n_estimators=200, min_samples_split=100, min_samples_leaf=2, max_features=sqrt, max_depth=30 \n",
            "[CV]  n_estimators=200, min_samples_split=100, min_samples_leaf=2, max_features=sqrt, max_depth=30, total=   0.2s\n",
            "[CV] n_estimators=200, min_samples_split=100, min_samples_leaf=2, max_features=sqrt, max_depth=30 \n",
            "[CV]  n_estimators=200, min_samples_split=100, min_samples_leaf=2, max_features=sqrt, max_depth=30, total=   0.3s\n",
            "[CV] n_estimators=200, min_samples_split=100, min_samples_leaf=2, max_features=sqrt, max_depth=30 \n",
            "[CV]  n_estimators=200, min_samples_split=100, min_samples_leaf=2, max_features=sqrt, max_depth=30, total=   0.3s\n",
            "[CV] n_estimators=1100, min_samples_split=100, min_samples_leaf=5, max_features=auto, max_depth=5 \n",
            "[CV]  n_estimators=1100, min_samples_split=100, min_samples_leaf=5, max_features=auto, max_depth=5, total=   1.4s\n",
            "[CV] n_estimators=1100, min_samples_split=100, min_samples_leaf=5, max_features=auto, max_depth=5 \n",
            "[CV]  n_estimators=1100, min_samples_split=100, min_samples_leaf=5, max_features=auto, max_depth=5, total=   1.4s\n",
            "[CV] n_estimators=1100, min_samples_split=100, min_samples_leaf=5, max_features=auto, max_depth=5 \n",
            "[CV]  n_estimators=1100, min_samples_split=100, min_samples_leaf=5, max_features=auto, max_depth=5, total=   1.4s\n",
            "[CV] n_estimators=1100, min_samples_split=100, min_samples_leaf=5, max_features=auto, max_depth=5 \n",
            "[CV]  n_estimators=1100, min_samples_split=100, min_samples_leaf=5, max_features=auto, max_depth=5, total=   1.3s\n",
            "[CV] n_estimators=1100, min_samples_split=100, min_samples_leaf=5, max_features=auto, max_depth=5 \n",
            "[CV]  n_estimators=1100, min_samples_split=100, min_samples_leaf=5, max_features=auto, max_depth=5, total=   1.4s\n",
            "[CV] n_estimators=800, min_samples_split=2, min_samples_leaf=1, max_features=sqrt, max_depth=10 \n",
            "[CV]  n_estimators=800, min_samples_split=2, min_samples_leaf=1, max_features=sqrt, max_depth=10, total=   1.1s\n",
            "[CV] n_estimators=800, min_samples_split=2, min_samples_leaf=1, max_features=sqrt, max_depth=10 \n",
            "[CV]  n_estimators=800, min_samples_split=2, min_samples_leaf=1, max_features=sqrt, max_depth=10, total=   1.1s\n",
            "[CV] n_estimators=800, min_samples_split=2, min_samples_leaf=1, max_features=sqrt, max_depth=10 \n",
            "[CV]  n_estimators=800, min_samples_split=2, min_samples_leaf=1, max_features=sqrt, max_depth=10, total=   1.1s\n",
            "[CV] n_estimators=800, min_samples_split=2, min_samples_leaf=1, max_features=sqrt, max_depth=10 \n",
            "[CV]  n_estimators=800, min_samples_split=2, min_samples_leaf=1, max_features=sqrt, max_depth=10, total=   1.1s\n",
            "[CV] n_estimators=800, min_samples_split=2, min_samples_leaf=1, max_features=sqrt, max_depth=10 \n",
            "[CV]  n_estimators=800, min_samples_split=2, min_samples_leaf=1, max_features=sqrt, max_depth=10, total=   1.1s\n",
            "[CV] n_estimators=700, min_samples_split=2, min_samples_leaf=5, max_features=sqrt, max_depth=25 \n",
            "[CV]  n_estimators=700, min_samples_split=2, min_samples_leaf=5, max_features=sqrt, max_depth=25, total=   0.9s\n",
            "[CV] n_estimators=700, min_samples_split=2, min_samples_leaf=5, max_features=sqrt, max_depth=25 \n",
            "[CV]  n_estimators=700, min_samples_split=2, min_samples_leaf=5, max_features=sqrt, max_depth=25, total=   0.9s\n",
            "[CV] n_estimators=700, min_samples_split=2, min_samples_leaf=5, max_features=sqrt, max_depth=25 \n",
            "[CV]  n_estimators=700, min_samples_split=2, min_samples_leaf=5, max_features=sqrt, max_depth=25, total=   0.9s\n",
            "[CV] n_estimators=700, min_samples_split=2, min_samples_leaf=5, max_features=sqrt, max_depth=25 \n",
            "[CV]  n_estimators=700, min_samples_split=2, min_samples_leaf=5, max_features=sqrt, max_depth=25, total=   0.9s\n",
            "[CV] n_estimators=700, min_samples_split=2, min_samples_leaf=5, max_features=sqrt, max_depth=25 \n",
            "[CV]  n_estimators=700, min_samples_split=2, min_samples_leaf=5, max_features=sqrt, max_depth=25, total=   0.9s\n",
            "[CV] n_estimators=100, min_samples_split=10, min_samples_leaf=2, max_features=sqrt, max_depth=5 \n",
            "[CV]  n_estimators=100, min_samples_split=10, min_samples_leaf=2, max_features=sqrt, max_depth=5, total=   0.1s\n",
            "[CV] n_estimators=100, min_samples_split=10, min_samples_leaf=2, max_features=sqrt, max_depth=5 \n",
            "[CV]  n_estimators=100, min_samples_split=10, min_samples_leaf=2, max_features=sqrt, max_depth=5, total=   0.1s\n",
            "[CV] n_estimators=100, min_samples_split=10, min_samples_leaf=2, max_features=sqrt, max_depth=5 \n",
            "[CV]  n_estimators=100, min_samples_split=10, min_samples_leaf=2, max_features=sqrt, max_depth=5, total=   0.1s\n",
            "[CV] n_estimators=100, min_samples_split=10, min_samples_leaf=2, max_features=sqrt, max_depth=5 \n",
            "[CV]  n_estimators=100, min_samples_split=10, min_samples_leaf=2, max_features=sqrt, max_depth=5, total=   0.1s\n",
            "[CV] n_estimators=100, min_samples_split=10, min_samples_leaf=2, max_features=sqrt, max_depth=5 \n",
            "[CV]  n_estimators=100, min_samples_split=10, min_samples_leaf=2, max_features=sqrt, max_depth=5, total=   0.1s\n",
            "[CV] n_estimators=1000, min_samples_split=15, min_samples_leaf=1, max_features=sqrt, max_depth=10 \n",
            "[CV]  n_estimators=1000, min_samples_split=15, min_samples_leaf=1, max_features=sqrt, max_depth=10, total=   1.2s\n",
            "[CV] n_estimators=1000, min_samples_split=15, min_samples_leaf=1, max_features=sqrt, max_depth=10 \n",
            "[CV]  n_estimators=1000, min_samples_split=15, min_samples_leaf=1, max_features=sqrt, max_depth=10, total=   1.2s\n",
            "[CV] n_estimators=1000, min_samples_split=15, min_samples_leaf=1, max_features=sqrt, max_depth=10 \n",
            "[CV]  n_estimators=1000, min_samples_split=15, min_samples_leaf=1, max_features=sqrt, max_depth=10, total=   1.3s\n",
            "[CV] n_estimators=1000, min_samples_split=15, min_samples_leaf=1, max_features=sqrt, max_depth=10 \n",
            "[CV]  n_estimators=1000, min_samples_split=15, min_samples_leaf=1, max_features=sqrt, max_depth=10, total=   1.3s\n",
            "[CV] n_estimators=1000, min_samples_split=15, min_samples_leaf=1, max_features=sqrt, max_depth=10 \n",
            "[CV]  n_estimators=1000, min_samples_split=15, min_samples_leaf=1, max_features=sqrt, max_depth=10, total=   1.4s\n",
            "[CV] n_estimators=500, min_samples_split=10, min_samples_leaf=1, max_features=auto, max_depth=20 \n",
            "[CV]  n_estimators=500, min_samples_split=10, min_samples_leaf=1, max_features=auto, max_depth=20, total=   0.7s\n",
            "[CV] n_estimators=500, min_samples_split=10, min_samples_leaf=1, max_features=auto, max_depth=20 \n",
            "[CV]  n_estimators=500, min_samples_split=10, min_samples_leaf=1, max_features=auto, max_depth=20, total=   0.7s\n",
            "[CV] n_estimators=500, min_samples_split=10, min_samples_leaf=1, max_features=auto, max_depth=20 \n",
            "[CV]  n_estimators=500, min_samples_split=10, min_samples_leaf=1, max_features=auto, max_depth=20, total=   0.7s\n",
            "[CV] n_estimators=500, min_samples_split=10, min_samples_leaf=1, max_features=auto, max_depth=20 \n",
            "[CV]  n_estimators=500, min_samples_split=10, min_samples_leaf=1, max_features=auto, max_depth=20, total=   0.7s\n",
            "[CV] n_estimators=500, min_samples_split=10, min_samples_leaf=1, max_features=auto, max_depth=20 \n",
            "[CV]  n_estimators=500, min_samples_split=10, min_samples_leaf=1, max_features=auto, max_depth=20, total=   0.7s\n",
            "[CV] n_estimators=200, min_samples_split=15, min_samples_leaf=1, max_features=sqrt, max_depth=20 \n",
            "[CV]  n_estimators=200, min_samples_split=15, min_samples_leaf=1, max_features=sqrt, max_depth=20, total=   0.3s\n",
            "[CV] n_estimators=200, min_samples_split=15, min_samples_leaf=1, max_features=sqrt, max_depth=20 \n",
            "[CV]  n_estimators=200, min_samples_split=15, min_samples_leaf=1, max_features=sqrt, max_depth=20, total=   0.3s\n",
            "[CV] n_estimators=200, min_samples_split=15, min_samples_leaf=1, max_features=sqrt, max_depth=20 \n",
            "[CV]  n_estimators=200, min_samples_split=15, min_samples_leaf=1, max_features=sqrt, max_depth=20, total=   0.3s\n",
            "[CV] n_estimators=200, min_samples_split=15, min_samples_leaf=1, max_features=sqrt, max_depth=20 \n",
            "[CV]  n_estimators=200, min_samples_split=15, min_samples_leaf=1, max_features=sqrt, max_depth=20, total=   0.3s\n",
            "[CV] n_estimators=200, min_samples_split=15, min_samples_leaf=1, max_features=sqrt, max_depth=20 \n",
            "[CV]  n_estimators=200, min_samples_split=15, min_samples_leaf=1, max_features=sqrt, max_depth=20, total=   0.3s\n",
            "[CV] n_estimators=1200, min_samples_split=10, min_samples_leaf=10, max_features=auto, max_depth=10 \n",
            "[CV]  n_estimators=1200, min_samples_split=10, min_samples_leaf=10, max_features=auto, max_depth=10, total=   1.6s\n",
            "[CV] n_estimators=1200, min_samples_split=10, min_samples_leaf=10, max_features=auto, max_depth=10 \n",
            "[CV]  n_estimators=1200, min_samples_split=10, min_samples_leaf=10, max_features=auto, max_depth=10, total=   1.5s\n",
            "[CV] n_estimators=1200, min_samples_split=10, min_samples_leaf=10, max_features=auto, max_depth=10 \n",
            "[CV]  n_estimators=1200, min_samples_split=10, min_samples_leaf=10, max_features=auto, max_depth=10, total=   1.6s\n",
            "[CV] n_estimators=1200, min_samples_split=10, min_samples_leaf=10, max_features=auto, max_depth=10 \n",
            "[CV]  n_estimators=1200, min_samples_split=10, min_samples_leaf=10, max_features=auto, max_depth=10, total=   1.6s\n",
            "[CV] n_estimators=1200, min_samples_split=10, min_samples_leaf=10, max_features=auto, max_depth=10 \n",
            "[CV]  n_estimators=1200, min_samples_split=10, min_samples_leaf=10, max_features=auto, max_depth=10, total=   1.6s\n",
            "[CV] n_estimators=500, min_samples_split=5, min_samples_leaf=1, max_features=auto, max_depth=30 \n",
            "[CV]  n_estimators=500, min_samples_split=5, min_samples_leaf=1, max_features=auto, max_depth=30, total=   0.7s\n",
            "[CV] n_estimators=500, min_samples_split=5, min_samples_leaf=1, max_features=auto, max_depth=30 \n",
            "[CV]  n_estimators=500, min_samples_split=5, min_samples_leaf=1, max_features=auto, max_depth=30, total=   0.7s\n",
            "[CV] n_estimators=500, min_samples_split=5, min_samples_leaf=1, max_features=auto, max_depth=30 \n",
            "[CV]  n_estimators=500, min_samples_split=5, min_samples_leaf=1, max_features=auto, max_depth=30, total=   0.7s\n",
            "[CV] n_estimators=500, min_samples_split=5, min_samples_leaf=1, max_features=auto, max_depth=30 \n",
            "[CV]  n_estimators=500, min_samples_split=5, min_samples_leaf=1, max_features=auto, max_depth=30, total=   0.7s\n",
            "[CV] n_estimators=500, min_samples_split=5, min_samples_leaf=1, max_features=auto, max_depth=30 \n",
            "[CV]  n_estimators=500, min_samples_split=5, min_samples_leaf=1, max_features=auto, max_depth=30, total=   0.7s\n",
            "[CV] n_estimators=1100, min_samples_split=100, min_samples_leaf=10, max_features=sqrt, max_depth=20 \n",
            "[CV]  n_estimators=1100, min_samples_split=100, min_samples_leaf=10, max_features=sqrt, max_depth=20, total=   1.3s\n",
            "[CV] n_estimators=1100, min_samples_split=100, min_samples_leaf=10, max_features=sqrt, max_depth=20 \n",
            "[CV]  n_estimators=1100, min_samples_split=100, min_samples_leaf=10, max_features=sqrt, max_depth=20, total=   1.3s\n",
            "[CV] n_estimators=1100, min_samples_split=100, min_samples_leaf=10, max_features=sqrt, max_depth=20 \n",
            "[CV]  n_estimators=1100, min_samples_split=100, min_samples_leaf=10, max_features=sqrt, max_depth=20, total=   1.3s\n",
            "[CV] n_estimators=1100, min_samples_split=100, min_samples_leaf=10, max_features=sqrt, max_depth=20 \n",
            "[CV]  n_estimators=1100, min_samples_split=100, min_samples_leaf=10, max_features=sqrt, max_depth=20, total=   1.3s\n",
            "[CV] n_estimators=1100, min_samples_split=100, min_samples_leaf=10, max_features=sqrt, max_depth=20 \n",
            "[CV]  n_estimators=1100, min_samples_split=100, min_samples_leaf=10, max_features=sqrt, max_depth=20, total=   1.3s\n",
            "[CV] n_estimators=300, min_samples_split=5, min_samples_leaf=2, max_features=auto, max_depth=10 \n",
            "[CV]  n_estimators=300, min_samples_split=5, min_samples_leaf=2, max_features=auto, max_depth=10, total=   0.4s\n",
            "[CV] n_estimators=300, min_samples_split=5, min_samples_leaf=2, max_features=auto, max_depth=10 \n",
            "[CV]  n_estimators=300, min_samples_split=5, min_samples_leaf=2, max_features=auto, max_depth=10, total=   0.4s\n",
            "[CV] n_estimators=300, min_samples_split=5, min_samples_leaf=2, max_features=auto, max_depth=10 \n",
            "[CV]  n_estimators=300, min_samples_split=5, min_samples_leaf=2, max_features=auto, max_depth=10, total=   0.4s\n",
            "[CV] n_estimators=300, min_samples_split=5, min_samples_leaf=2, max_features=auto, max_depth=10 \n",
            "[CV]  n_estimators=300, min_samples_split=5, min_samples_leaf=2, max_features=auto, max_depth=10, total=   0.4s\n",
            "[CV] n_estimators=300, min_samples_split=5, min_samples_leaf=2, max_features=auto, max_depth=10 \n",
            "[CV]  n_estimators=300, min_samples_split=5, min_samples_leaf=2, max_features=auto, max_depth=10, total=   0.4s\n",
            "[CV] n_estimators=500, min_samples_split=2, min_samples_leaf=1, max_features=sqrt, max_depth=15 \n",
            "[CV]  n_estimators=500, min_samples_split=2, min_samples_leaf=1, max_features=sqrt, max_depth=15, total=   0.7s\n",
            "[CV] n_estimators=500, min_samples_split=2, min_samples_leaf=1, max_features=sqrt, max_depth=15 \n",
            "[CV]  n_estimators=500, min_samples_split=2, min_samples_leaf=1, max_features=sqrt, max_depth=15, total=   0.7s\n",
            "[CV] n_estimators=500, min_samples_split=2, min_samples_leaf=1, max_features=sqrt, max_depth=15 \n",
            "[CV]  n_estimators=500, min_samples_split=2, min_samples_leaf=1, max_features=sqrt, max_depth=15, total=   0.7s\n",
            "[CV] n_estimators=500, min_samples_split=2, min_samples_leaf=1, max_features=sqrt, max_depth=15 \n",
            "[CV]  n_estimators=500, min_samples_split=2, min_samples_leaf=1, max_features=sqrt, max_depth=15, total=   0.7s\n",
            "[CV] n_estimators=500, min_samples_split=2, min_samples_leaf=1, max_features=sqrt, max_depth=15 \n",
            "[CV]  n_estimators=500, min_samples_split=2, min_samples_leaf=1, max_features=sqrt, max_depth=15, total=   0.7s\n",
            "[CV] n_estimators=500, min_samples_split=2, min_samples_leaf=2, max_features=sqrt, max_depth=20 \n",
            "[CV]  n_estimators=500, min_samples_split=2, min_samples_leaf=2, max_features=sqrt, max_depth=20, total=   0.7s\n",
            "[CV] n_estimators=500, min_samples_split=2, min_samples_leaf=2, max_features=sqrt, max_depth=20 \n",
            "[CV]  n_estimators=500, min_samples_split=2, min_samples_leaf=2, max_features=sqrt, max_depth=20, total=   0.6s\n",
            "[CV] n_estimators=500, min_samples_split=2, min_samples_leaf=2, max_features=sqrt, max_depth=20 \n",
            "[CV]  n_estimators=500, min_samples_split=2, min_samples_leaf=2, max_features=sqrt, max_depth=20, total=   0.7s\n",
            "[CV] n_estimators=500, min_samples_split=2, min_samples_leaf=2, max_features=sqrt, max_depth=20 \n",
            "[CV]  n_estimators=500, min_samples_split=2, min_samples_leaf=2, max_features=sqrt, max_depth=20, total=   0.7s\n",
            "[CV] n_estimators=500, min_samples_split=2, min_samples_leaf=2, max_features=sqrt, max_depth=20 \n",
            "[CV]  n_estimators=500, min_samples_split=2, min_samples_leaf=2, max_features=sqrt, max_depth=20, total=   0.7s\n",
            "[CV] n_estimators=700, min_samples_split=10, min_samples_leaf=1, max_features=sqrt, max_depth=20 \n",
            "[CV]  n_estimators=700, min_samples_split=10, min_samples_leaf=1, max_features=sqrt, max_depth=20, total=   0.9s\n",
            "[CV] n_estimators=700, min_samples_split=10, min_samples_leaf=1, max_features=sqrt, max_depth=20 \n",
            "[CV]  n_estimators=700, min_samples_split=10, min_samples_leaf=1, max_features=sqrt, max_depth=20, total=   0.9s\n",
            "[CV] n_estimators=700, min_samples_split=10, min_samples_leaf=1, max_features=sqrt, max_depth=20 \n",
            "[CV]  n_estimators=700, min_samples_split=10, min_samples_leaf=1, max_features=sqrt, max_depth=20, total=   0.9s\n",
            "[CV] n_estimators=700, min_samples_split=10, min_samples_leaf=1, max_features=sqrt, max_depth=20 \n",
            "[CV]  n_estimators=700, min_samples_split=10, min_samples_leaf=1, max_features=sqrt, max_depth=20, total=   0.9s\n",
            "[CV] n_estimators=700, min_samples_split=10, min_samples_leaf=1, max_features=sqrt, max_depth=20 \n",
            "[CV]  n_estimators=700, min_samples_split=10, min_samples_leaf=1, max_features=sqrt, max_depth=20, total=   0.9s\n"
          ],
          "name": "stdout"
        },
        {
          "output_type": "stream",
          "text": [
            "[Parallel(n_jobs=1)]: Done 500 out of 500 | elapsed:  6.9min finished\n"
          ],
          "name": "stderr"
        },
        {
          "output_type": "execute_result",
          "data": {
            "text/plain": [
              "RandomizedSearchCV(cv=5, error_score=nan,\n",
              "                   estimator=RandomForestRegressor(bootstrap=True,\n",
              "                                                   ccp_alpha=0.0,\n",
              "                                                   criterion='mse',\n",
              "                                                   max_depth=None,\n",
              "                                                   max_features='auto',\n",
              "                                                   max_leaf_nodes=None,\n",
              "                                                   max_samples=None,\n",
              "                                                   min_impurity_decrease=0.0,\n",
              "                                                   min_impurity_split=None,\n",
              "                                                   min_samples_leaf=1,\n",
              "                                                   min_samples_split=2,\n",
              "                                                   min_weight_fraction_leaf=0.0,\n",
              "                                                   n_estimators=100,\n",
              "                                                   n_jobs=None, oob_score=Fals...\n",
              "                   iid='deprecated', n_iter=100, n_jobs=1,\n",
              "                   param_distributions={'max_depth': [5, 10, 15, 20, 25, 30],\n",
              "                                        'max_features': ['auto', 'sqrt'],\n",
              "                                        'min_samples_leaf': [1, 2, 5, 10],\n",
              "                                        'min_samples_split': [2, 5, 10, 15,\n",
              "                                                              100],\n",
              "                                        'n_estimators': [100, 200, 300, 400,\n",
              "                                                         500, 600, 700, 800,\n",
              "                                                         900, 1000, 1100,\n",
              "                                                         1200]},\n",
              "                   pre_dispatch='2*n_jobs', random_state=42, refit=True,\n",
              "                   return_train_score=False, scoring='neg_mean_squared_error',\n",
              "                   verbose=2)"
            ]
          },
          "metadata": {
            "tags": []
          },
          "execution_count": 25
        }
      ]
    },
    {
      "cell_type": "code",
      "metadata": {
        "id": "ndP9KkRN4xLM",
        "colab": {
          "base_uri": "https://localhost:8080/"
        },
        "outputId": "ed628b49-8426-4dd8-f621-998cfa4e15ac"
      },
      "source": [
        "#displaying the best parameters\n",
        "rf_random.best_params_"
      ],
      "execution_count": null,
      "outputs": [
        {
          "output_type": "execute_result",
          "data": {
            "text/plain": [
              "{'max_depth': 20,\n",
              " 'max_features': 'auto',\n",
              " 'min_samples_leaf': 2,\n",
              " 'min_samples_split': 5,\n",
              " 'n_estimators': 600}"
            ]
          },
          "metadata": {
            "tags": []
          },
          "execution_count": 28
        }
      ]
    },
    {
      "cell_type": "code",
      "metadata": {
        "id": "WLM_k5fo4xLN",
        "colab": {
          "base_uri": "https://localhost:8080/"
        },
        "outputId": "f8a657dd-bc84-49c6-87bf-c4b20fb2d853"
      },
      "source": [
        "rf_random.best_score_"
      ],
      "execution_count": null,
      "outputs": [
        {
          "output_type": "execute_result",
          "data": {
            "text/plain": [
              "-3.6475629173526007"
            ]
          },
          "metadata": {
            "tags": []
          },
          "execution_count": 29
        }
      ]
    },
    {
      "cell_type": "markdown",
      "metadata": {
        "id": "0FMntHcE4xLN"
      },
      "source": [
        "# Final Predictions"
      ]
    },
    {
      "cell_type": "code",
      "metadata": {
        "id": "jKXNJBmV4xLO",
        "colab": {
          "base_uri": "https://localhost:8080/"
        },
        "outputId": "92a86770-d682-42cb-b466-91115d9cd15a"
      },
      "source": [
        "#predicting against test data\n",
        "y_pred=rf_random.predict(X_test)\n",
        "#print the erros\n",
        "print('MAE:', metrics.mean_absolute_error(y_test, y_pred))\n",
        "print('MSE:', metrics.mean_squared_error(y_test, y_pred))\n",
        "print('RMSE:', np.sqrt(metrics.mean_squared_error(y_test, y_pred)))\n",
        "R2 = metrics.r2_score(y_test,y_pred)\n",
        "print('R2:',R2)"
      ],
      "execution_count": null,
      "outputs": [
        {
          "output_type": "stream",
          "text": [
            "MAE: 0.7728269308799682\n",
            "MSE: 2.6514056280776845\n",
            "RMSE: 1.6283137376063879\n",
            "R2: 0.9113421854992618\n"
          ],
          "name": "stdout"
        }
      ]
    },
    {
      "cell_type": "markdown",
      "metadata": {
        "id": "g52-Tt2u4xLO"
      },
      "source": [
        "# Save the model"
      ]
    },
    {
      "cell_type": "code",
      "metadata": {
        "id": "k2hLj5J34xLP"
      },
      "source": [
        "import pickle\n",
        "# open a file, where you ant to store the data\n",
        "file = open('car_price_model.pkl', 'wb')\n",
        "\n",
        "# dump information to that file\n",
        "pickle.dump(rf_random, file)"
      ],
      "execution_count": null,
      "outputs": []
    },
    {
      "cell_type": "code",
      "metadata": {
        "id": "WRNOcJEU4xLP"
      },
      "source": [
        ""
      ],
      "execution_count": null,
      "outputs": []
    }
  ]
}
